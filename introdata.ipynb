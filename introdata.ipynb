{
 "cells": [
  {
   "attachments": {},
   "cell_type": "markdown",
   "metadata": {},
   "source": [
    "# Getting to know the DANTEStocks Data"
   ]
  },
  {
   "cell_type": "code",
   "execution_count": 1,
   "metadata": {},
   "outputs": [],
   "source": [
    "data = open(r\"C:\\Users\\ianba\\OneDrive\\Desktop\\shenanigans\\usp\\ic\\poetisa\\data\\DANTEStocks (15dez2022).conllu\", \"r\", encoding=\"utf-8\")"
   ]
  },
  {
   "attachments": {},
   "cell_type": "markdown",
   "metadata": {},
   "source": [
    "### CONLL-U File Framework Description\n",
    "\n",
    "Lines preceded by a hashtag are comment lines providing metadata on the corpus. In the case of the DANTEStocks corpus the comment lines are used to indicate the filename, new paragraphs, each sentece ID and the full tweet before the syntactic and semantic annotation. Following the comment lines we have word lines that each contain a token and its annotations. For example for the first phrase we have 14 word lines for the words in the first tweet. The columns in each line are separated by tabulators.\n",
    "The columns have the following meanings, as indicated in https://universaldependencies.org/format.html.\n",
    "\n",
    "1. ID: Word index, integer starting at 1 for each new sentence; may be a range for multiword tokens; may be a decimal number for empty nodes (decimal numbers can be lower than 1 but must be greater than 0).\n",
    "2. FORM: Word form or punctuation symbol.\n",
    "3. LEMMA: Lemma or stem of word form.\n",
    "4. UPOS: Universal part-of-speech tag.\n",
    "5. XPOS: Language-specific part-of-speech tag; underscore if not available.\n",
    "6. FEATS: List of morphological features from the universal feature inventory or from a defined language-specific extension; underscore if not available.\n",
    "7. HEAD: Head of the current word, which is either a value of ID or zero (0).\n",
    "8. DEPREL: Universal dependency relation to the HEAD (root iff HEAD = 0) or a defined language-specific subtype of one.\n",
    "9. DEPS: Enhanced dependency graph in the form of a list of head-deprel pairs.\n",
    "10. MISC: Any other annotation."
   ]
  },
  {
   "cell_type": "code",
   "execution_count": 2,
   "metadata": {},
   "outputs": [],
   "source": [
    "annotations = data.read()"
   ]
  },
  {
   "cell_type": "code",
   "execution_count": 3,
   "metadata": {},
   "outputs": [],
   "source": [
    "data.close()"
   ]
  },
  {
   "cell_type": "code",
   "execution_count": 4,
   "metadata": {},
   "outputs": [
    {
     "name": "stdout",
     "output_type": "stream",
     "text": [
      "# newdoc id = DANTE_29Nov22.conllu\n",
      "# newpar\n",
      "# sent_id = dante_01_441014389496619009l\n",
      "# text = #VALE5 - Análise #Ichimoku - pregão de sexta-feira, 28 de fevereiro. http://t.co/kEreB1xgU4\n",
      "1\t#VALE5\t#VALE5\tX\t_\t_\t_\t_\t_\t_\n",
      "2\t-\t-\tPUNCT\t_\t_\t_\t_\t_\t_\n",
      "3\tAnálise\tAnálise\tPROPN\t_\t_\t_\t_\t_\t_\n",
      "4\t#Ichimoku\t#Ichimoku\tPROPN\t_\t_\t_\t_\t_\t_\n",
      "5\t-\t-\tPUNCT\t_\t_\t_\t_\t_\t_\n",
      "6\tpregão\tpregão\tNOUN\t_\tGender=Masc|Number=Sing\t_\t_\t_\t_\n",
      "7\tde\tde\tADP\t_\t_\t_\t_\t_\t_\n",
      "8\tsexta-feira\tsexta-feira\tNOUN\t_\tGender=Fem|Number=Sing\t_\t_\t_\t_\n",
      "9\t,\t,\tPUNCT\t_\t_\t_\t_\t_\t_\n",
      "10\t28\t28\tNUM\t_\tNumType=Card\t_\t_\t_\t_\n",
      "11\tde\tde\tADP\t_\t_\t_\t_\t_\t_\n",
      "12\tfevereiro\tfevereiro\tNOUN\t_\tGender=Masc|Number=Sing\t_\t_\t_\t_\n",
      "13\t.\t.\tPUNCT\t_\t_\t_\t_\t_\t_\n",
      "14\thttp://t.co/kEreB1xgU4\thttp://t.co/kEreB1xgU4\tSYM\t_\t_\t_\t_\t_\tSpacesAfter=\\n\n",
      "\n",
      "# sent_id = dante_01_441020223408578560l\n",
      "# text = #PETR4 - Análise #Ichimoku - pregão de sexta-feira, 28 de fevereiro. http://t.co/oAHK5pB3e0\n",
      "1\t#PETR4\t#PETR4\tX\t_\t_\t_\t_\t_\t_\n",
      "2\t-\t-\tPUNCT\t_\t_\t_\t_\t_\t_\n",
      "3\tAnálise\tAnálise\tPROPN\t_\t_\t_\t_\t_\t_\n",
      "4\t#Ichimoku\t#Ichimoku\tPROPN\t_\t_\t_\t_\t_\t_\n",
      "5\t-\t-\tPUNCT\t_\t_\t_\t_\t_\t_\n",
      "6\tpregão\tpregão\tNOUN\t_\tGender=Masc|Number=Sing\t_\t_\t_\t_\n",
      "7\tde\tde\tADP\t_\t_\t_\t_\t_\t_\n",
      "8\tsexta-feira\tsexta-feira\tNOUN\t_\tGender=Fem|Number=Sing\t_\t_\t_\t_\n",
      "9\t,\t,\tPUNCT\t_\t_\t_\t_\t_\t_\n",
      "10\t28\t28\tNUM\t_\tNumType=Card\t_\t_\t_\t_\n",
      "11\tde\tde\tADP\t_\t_\t_\t_\t_\t_\n",
      "12\tfevereiro\tfevereiro\tNOUN\t_\tGender=Masc|Number=Sing\t_\t_\t_\t_\n",
      "13\t.\t.\tPUNCT\t_\t_\t_\t_\t_\t_\n",
      "14\thttp://t.co/oAHK5pB3e0\thttp://t.co/oAHK5pB3e0\tSYM\t_\t_\t_\t_\t_\tSpacesAfter=\\n\n",
      "\n",
      "# sent_id = dante_01_441028254942502912l\n",
      "# text = as nuvens do ichimoku: PETR4 - pregão de sexta-feira, 28 de fevereiro http://t.co/fZ3wAPf7An\n",
      "1\tas\to\tDET\t_\tDefinite=Def|Gender=Fem|Number=Plur|PronType=Art\t_\t_\t_\t_\n",
      "2\tnuvens\tnuvens\tPROPN\t_\t_\t_\t_\t_\t_\n",
      "3-4\tdo\t_\t_\t_\t_\t_\t_\t_\t_\n",
      "3\tde\tde\tADP\t_\t_\t_\t_\t_\t_\n",
      "4\to\to\tDET\t_\tDefinite=Def|Gender=Masc|Number=Sing|PronType=Art\t_\t_\t_\t_\n",
      "5\tichimoku\tichimoku\tPROPN\t_\t_\t_\t_\t_\t_\n",
      "6\t:\t:\tPUNCT\t_\t_\t_\t_\t_\t_\n",
      "7\tPETR4\tPETR4\tPROPN\t_\t_\t_\t_\t_\t_\n",
      "8\t-\t-\tPUNCT\t_\t_\t_\t_\t_\t_\n",
      "9\tpregão\tpregão\tNOUN\t_\tGender=Masc|Number=Sing\t_\t_\t_\t_\n",
      "10\tde\tde\tADP\t_\t_\t_\t_\t_\t_\n",
      "11\tsexta-feira\tsexta-feira\tNOUN\t_\tGender=Fem|Number=Sing\t_\t_\t_\t_\n",
      "12\t,\t,\tPUNCT\t_\t_\t_\t_\t_\t_\n",
      "13\t28\t28\tNUM\t_\tNumType=Card\t_\t_\t_\t_\n",
      "14\tde\tde\tADP\t_\t_\t_\t_\t_\t_\n",
      "15\tfevereiro\tfevereiro\tNOUN\t_\tGender=Masc|Number=Sing\t_\t_\t_\t_\n",
      "16\thttp://t.co/fZ3wAPf7An\thttp://t.co/fZ3wAPf7An\tSYM\t_\t_\t_\t_\t_\tSpacesAfter=\\n\n",
      "\n",
      "# sent_id = dante_01_441030534467055617l\n",
      "# text = Em a #PETR4 fizemos em a sexta passada uma Sub Onda 5 de fundo e em o dia 05/02/14uma Onda 3 de fundo alvos 15,44 16,40 http://t.co/5DPBQCulWr\n",
      "1\tEm\tem\tADP\t_\t_\t_\t_\t_\t_\n",
      "2\ta\to\tDET\t_\tDefinite=Def|Gender=Fem|Number=Sing|PronType=Art\t_\t_\t_\t_\n",
      "3\t#PETR4\t#PETR4\tPROPN\t_\t_\t_\t_\t_\t_\n",
      "4\tfizemos\tfazer\tVERB\t_\tMood=Ind|Number=Plur|Person=1|Tense=Past|VerbForm=Fin\t_\t_\t_\t_\n",
      "5-6\tna\t_\t_\t_\t_\t_\t_\t_\t_\n",
      "5\tem\tem\tADP\t_\t_\t_\t_\t_\t_\n",
      "6\ta\to\tDET\t_\tDefinite=Def|Gender=Fem|Number=Sing|PronType=Art\t_\t_\t_\t_\n",
      "7\tsexta\tsexta-feira\tNOUN\t_\tGender=Fem|Number=Sing|Abbr=Yes\t_\t_\t_\tFullForm=sexta-feira\n",
      "8\tpassada\tpassado\tADJ\t_\tGender=Fem|Number=Sing\t_\t_\t_\t_\n",
      "9\tuma\tum\tDET\t_\tDefinite=Ind|Gender=Fem|Number=Sing|PronType=Art\t_\t_\t_\t_\n",
      "10\tSub\tsubonda\tNOUN\t_\tGender=Fem|Number=Sing|Typo=Yes\t_\t_\t_\tCorrectForm=Subonda\n",
      "11\tOnda\t_\tX\t_\t_\t10\tgoeswith\t_\t_\n",
      "12\t5\t5\tNUM\t_\tNumType=Card\t_\t_\t_\t_\n",
      "13\tde\tde\tADP\t_\t_\t_\t_\t_\t_\n",
      "14\tfundo\tfundo\tNOUN\t_\tGender=Masc|Number=Sing\t_\t_\t_\t_\n",
      "15\te\te\tCCONJ\t_\t_\t_\t_\t_\t_\n",
      "16-17\tno\t_\t_\t_\t_\t_\t_\t_\t_\n",
      "16\tem\tem\tADP\t_\t_\t_\t_\t_\t_\n",
      "17\to\to\tDET\t_\tDefinite=Def|Gender=Masc|Number=Sing|PronType=Art\t_\t_\t_\t_\n",
      "18\tdia\tdia\tNOUN\t_\tGender=Masc|Number=Sing\t_\t_\t_\t_\n",
      "19\t05/02/14\t05/02/14\tNUM\t_\tNumType=Card\t_\t_\t_\tCorrectSpaceAfter=Yes|SpaceAfter=No\n",
      "20\tuma\tum\tDET\t_\tDefinite=Ind|Gender=Fem|Number=Sing|PronType=Art\t_\t_\t_\t_\n",
      "21\tOnda\tonda\tNOUN\t_\tGender=Fem|Number=Sing\t_\t_\t_\t_\n",
      "22\t3\t3\tNUM\t_\tNumType=Card\t_\t_\t_\t_\n",
      "23\tde\tde\tADP\t_\t_\t_\t_\t_\t_\n",
      "24\tfundo\tfundo\tNOUN\t_\tGender=Masc|Number=Sing\t_\t_\t_\t_\n",
      "25\talvos\talvo\tNOUN\t_\tGender=Masc|Number=Plur\t_\t_\t_\t_\n",
      "26\t15,44\t15,44\tNUM\t_\tNumType=Card\t_\t_\t_\t_\n",
      "27\t16,40\t16,40\tNUM\t_\tNumType=Card\t_\t_\t_\t_\n",
      "28\thttp://t.co/5DPBQCulWr\thttp://t.co/5DPBQCulWr\tSYM\t_\t_\t_\t_\t_\tSpacesAfter=\\n\n",
      "\n",
      "# sent_id = dante_01_44103216596\n"
     ]
    }
   ],
   "source": [
    "print(annotations[:4000])"
   ]
  },
  {
   "attachments": {},
   "cell_type": "markdown",
   "metadata": {},
   "source": [
    "I would like to better visualize and manipulate this data, so I will try to convert it to a pandas dataframe. "
   ]
  },
  {
   "cell_type": "code",
   "execution_count": 5,
   "metadata": {},
   "outputs": [
    {
     "name": "stdout",
     "output_type": "stream",
     "text": [
      "Requirement already satisfied: conllu in c:\\users\\ianba\\anaconda3\\lib\\site-packages (4.5.2)\n"
     ]
    }
   ],
   "source": [
    "! pip install conllu"
   ]
  },
  {
   "cell_type": "code",
   "execution_count": 6,
   "metadata": {},
   "outputs": [],
   "source": [
    "import conllu as c"
   ]
  },
  {
   "cell_type": "code",
   "execution_count": 7,
   "metadata": {},
   "outputs": [],
   "source": [
    "# parses the text data in conllu format into a list of token list\n",
    "# objects, where token lists are a datatype specific to the conllu\n",
    "# format\n",
    "sentences = c.parse(annotations)"
   ]
  },
  {
   "cell_type": "code",
   "execution_count": 8,
   "metadata": {},
   "outputs": [
    {
     "data": {
      "text/plain": [
       "conllu.models.SentenceList"
      ]
     },
     "execution_count": 8,
     "metadata": {},
     "output_type": "execute_result"
    }
   ],
   "source": [
    "type(sentences)"
   ]
  },
  {
   "cell_type": "code",
   "execution_count": 9,
   "metadata": {},
   "outputs": [
    {
     "data": {
      "text/plain": [
       "conllu.models.TokenList"
      ]
     },
     "execution_count": 9,
     "metadata": {},
     "output_type": "execute_result"
    }
   ],
   "source": [
    "type(sentences[0])"
   ]
  },
  {
   "cell_type": "code",
   "execution_count": 10,
   "metadata": {},
   "outputs": [
    {
     "data": {
      "text/plain": [
       "{'newdoc id': 'DANTE_29Nov22.conllu',\n",
       " 'newpar': None,\n",
       " 'sent_id': 'dante_01_441014389496619009l',\n",
       " 'text': '#VALE5 - Análise #Ichimoku - pregão de sexta-feira, 28 de fevereiro. http://t.co/kEreB1xgU4'}"
      ]
     },
     "execution_count": 10,
     "metadata": {},
     "output_type": "execute_result"
    }
   ],
   "source": [
    "# We are able to extract the comments from the DANTEStocks corpus \n",
    "# using the metadata atribute. Furthermore, as it returns a dictionary\n",
    "# like object we are able to use the keys to access specific comments.\n",
    "# In this corpus the keys are as follows:\n",
    "\n",
    "# 1. newdoc id: Corpus ID\n",
    "# 2. newpar: new paragraph\n",
    "# 3. sent_id: sentence ID\n",
    "# 4. text: full tweet\n",
    "sentences[0].metadata"
   ]
  },
  {
   "cell_type": "code",
   "execution_count": 11,
   "metadata": {},
   "outputs": [
    {
     "data": {
      "text/plain": [
       "{'id': 1,\n",
       " 'form': '#VALE5',\n",
       " 'lemma': '#VALE5',\n",
       " 'upos': 'X',\n",
       " 'xpos': None,\n",
       " 'feats': None,\n",
       " 'head': None,\n",
       " 'deprel': '_',\n",
       " 'deps': None,\n",
       " 'misc': None}"
      ]
     },
     "execution_count": 11,
     "metadata": {},
     "output_type": "execute_result"
    }
   ],
   "source": [
    "# Extracting line 1\n",
    "sentences[0][0]"
   ]
  },
  {
   "cell_type": "code",
   "execution_count": 12,
   "metadata": {},
   "outputs": [
    {
     "data": {
      "text/plain": [
       "'#VALE5'"
      ]
     },
     "execution_count": 12,
     "metadata": {},
     "output_type": "execute_result"
    }
   ],
   "source": [
    "# getting a specific key from line 1\n",
    "sentences[0][0]['lemma']"
   ]
  },
  {
   "cell_type": "code",
   "execution_count": 13,
   "metadata": {},
   "outputs": [],
   "source": [
    "# lets create a list of all the full tweets\n",
    "tweets = []\n",
    "for i in range(len(sentences)):\n",
    "    tweet = sentences[i].metadata['text']\n",
    "    tweets.append(tweet)"
   ]
  },
  {
   "cell_type": "code",
   "execution_count": 14,
   "metadata": {},
   "outputs": [
    {
     "data": {
      "text/plain": [
       "['#VALE5 - Análise #Ichimoku - pregão de sexta-feira, 28 de fevereiro. http://t.co/kEreB1xgU4',\n",
       " '#PETR4 - Análise #Ichimoku - pregão de sexta-feira, 28 de fevereiro. http://t.co/oAHK5pB3e0',\n",
       " 'as nuvens do ichimoku: PETR4 - pregão de sexta-feira, 28 de fevereiro http://t.co/fZ3wAPf7An',\n",
       " 'Em a #PETR4 fizemos em a sexta passada uma Sub Onda 5 de fundo e em o dia 05/02/14uma Onda 3 de fundo alvos 15,44 16,40 http://t.co/5DPBQCulWr',\n",
       " '@PaiRico @frfontanella @eddu56 @TiagoBDS Acabei de fazer análise da sua #petr4 . Abraços !']"
      ]
     },
     "execution_count": 14,
     "metadata": {},
     "output_type": "execute_result"
    }
   ],
   "source": [
    "tweets[:5]"
   ]
  },
  {
   "cell_type": "code",
   "execution_count": 15,
   "metadata": {},
   "outputs": [
    {
     "data": {
      "text/plain": [
       "4048"
      ]
     },
     "execution_count": 15,
     "metadata": {},
     "output_type": "execute_result"
    }
   ],
   "source": [
    "len(tweets)"
   ]
  },
  {
   "attachments": {},
   "cell_type": "markdown",
   "metadata": {},
   "source": [
    "### Creating a Pandas Dataframe\n",
    "We're going to try and create a pandas dataframe with our data"
   ]
  },
  {
   "cell_type": "code",
   "execution_count": 16,
   "metadata": {},
   "outputs": [
    {
     "data": {
      "text/plain": [
       "['id',\n",
       " 'form',\n",
       " 'lemma',\n",
       " 'upos',\n",
       " 'xpos',\n",
       " 'feats',\n",
       " 'head',\n",
       " 'deprel',\n",
       " 'deps',\n",
       " 'misc']"
      ]
     },
     "execution_count": 16,
     "metadata": {},
     "output_type": "execute_result"
    }
   ],
   "source": [
    "# creating a list of columns\n",
    "columns = list(sentences[0][0].keys())\n",
    "columns"
   ]
  },
  {
   "cell_type": "code",
   "execution_count": 17,
   "metadata": {},
   "outputs": [],
   "source": [
    "# creating a dictionary where the keys are the columns\n",
    "# and the values are lists of the values for each column\n",
    "df = {k:[] for k in columns}"
   ]
  },
  {
   "cell_type": "code",
   "execution_count": 18,
   "metadata": {},
   "outputs": [],
   "source": [
    "# populating the dictionary\n",
    "for t in range(len(sentences)):\n",
    "    for tok in sentences[t]:\n",
    "        for k, v in tok.items():\n",
    "            df[k].append(v)"
   ]
  },
  {
   "cell_type": "code",
   "execution_count": 19,
   "metadata": {},
   "outputs": [],
   "source": [
    "# getting the number of tokens\n",
    "numtoks = 0\n",
    "for i in range(len(sentences)):\n",
    "    numtoks += len(sentences[i])"
   ]
  },
  {
   "cell_type": "code",
   "execution_count": 20,
   "metadata": {},
   "outputs": [
    {
     "data": {
      "text/plain": [
       "84397"
      ]
     },
     "execution_count": 20,
     "metadata": {},
     "output_type": "execute_result"
    }
   ],
   "source": [
    "numtoks"
   ]
  },
  {
   "cell_type": "code",
   "execution_count": 21,
   "metadata": {},
   "outputs": [
    {
     "name": "stdout",
     "output_type": "stream",
     "text": [
      "84397\n",
      "84397\n",
      "84397\n",
      "84397\n",
      "84397\n",
      "84397\n",
      "84397\n",
      "84397\n",
      "84397\n",
      "84382\n"
     ]
    }
   ],
   "source": [
    "for col in df.keys():\n",
    "    print(len(df[col]))"
   ]
  },
  {
   "attachments": {},
   "cell_type": "markdown",
   "metadata": {},
   "source": [
    "As we can see for some reason some tokens don't have the misc column."
   ]
  },
  {
   "cell_type": "code",
   "execution_count": 22,
   "metadata": {},
   "outputs": [],
   "source": [
    "miscs = None\n",
    "errors = []\n",
    "for t in range(len(sentences)):\n",
    "    for tok in sentences[t]:\n",
    "        try:\n",
    "            miscs = tok['misc']\n",
    "        except:\n",
    "            errors.append([t, tok['form']])"
   ]
  },
  {
   "cell_type": "code",
   "execution_count": 23,
   "metadata": {},
   "outputs": [
    {
     "data": {
      "text/plain": [
       "[[366, '#falencia'],\n",
       " [366, '#incompetencia'],\n",
       " [366, '#PETR4'],\n",
       " [366, '#divida'],\n",
       " [702, 'que'],\n",
       " [950, 'niquel'],\n",
       " [1110, 'sem'],\n",
       " [1264, 'o'],\n",
       " [1676, 'VEM'],\n",
       " [1719, 'ações'],\n",
       " [1834, 'Teria'],\n",
       " [2266, 'ações'],\n",
       " [2316, 'o'],\n",
       " [3490, 'o'],\n",
       " [3833, 'o']]"
      ]
     },
     "execution_count": 23,
     "metadata": {},
     "output_type": "execute_result"
    }
   ],
   "source": [
    "errors"
   ]
  },
  {
   "cell_type": "code",
   "execution_count": 24,
   "metadata": {},
   "outputs": [],
   "source": [
    "error_words = [i[1] for i in errors]\n",
    "error_idxs = [i[0] for i in errors]\n",
    "\n",
    "for t in error_idxs:\n",
    "    for tok in sentences[t]:\n",
    "        if tok['form'] in error_words:\n",
    "            tok['misc'] = None"
   ]
  },
  {
   "cell_type": "code",
   "execution_count": 25,
   "metadata": {},
   "outputs": [],
   "source": [
    "df = {k:[] for k in columns}\n",
    "for t in range(len(sentences)):\n",
    "    for tok in sentences[t]:\n",
    "        for k, v in tok.items():\n",
    "            df[k].append(v)"
   ]
  },
  {
   "cell_type": "code",
   "execution_count": 26,
   "metadata": {},
   "outputs": [
    {
     "name": "stdout",
     "output_type": "stream",
     "text": [
      "84397\n",
      "84397\n",
      "84397\n",
      "84397\n",
      "84397\n",
      "84397\n",
      "84397\n",
      "84397\n",
      "84397\n",
      "84397\n"
     ]
    }
   ],
   "source": [
    "for col in df.keys():\n",
    "    print(len(df[col]))"
   ]
  },
  {
   "cell_type": "code",
   "execution_count": 27,
   "metadata": {},
   "outputs": [],
   "source": [
    "import pandas as pd\n",
    "import numpy as np"
   ]
  },
  {
   "cell_type": "code",
   "execution_count": 28,
   "metadata": {},
   "outputs": [],
   "source": [
    "dante_df = pd.DataFrame(df)"
   ]
  },
  {
   "cell_type": "code",
   "execution_count": 29,
   "metadata": {},
   "outputs": [
    {
     "data": {
      "text/plain": [
       "(84397, 10)"
      ]
     },
     "execution_count": 29,
     "metadata": {},
     "output_type": "execute_result"
    }
   ],
   "source": [
    "dante_df.shape"
   ]
  },
  {
   "cell_type": "code",
   "execution_count": 30,
   "metadata": {},
   "outputs": [
    {
     "data": {
      "text/html": [
       "<div>\n",
       "<style scoped>\n",
       "    .dataframe tbody tr th:only-of-type {\n",
       "        vertical-align: middle;\n",
       "    }\n",
       "\n",
       "    .dataframe tbody tr th {\n",
       "        vertical-align: top;\n",
       "    }\n",
       "\n",
       "    .dataframe thead th {\n",
       "        text-align: right;\n",
       "    }\n",
       "</style>\n",
       "<table border=\"1\" class=\"dataframe\">\n",
       "  <thead>\n",
       "    <tr style=\"text-align: right;\">\n",
       "      <th></th>\n",
       "      <th>id</th>\n",
       "      <th>form</th>\n",
       "      <th>lemma</th>\n",
       "      <th>upos</th>\n",
       "      <th>xpos</th>\n",
       "      <th>feats</th>\n",
       "      <th>head</th>\n",
       "      <th>deprel</th>\n",
       "      <th>deps</th>\n",
       "      <th>misc</th>\n",
       "    </tr>\n",
       "  </thead>\n",
       "  <tbody>\n",
       "    <tr>\n",
       "      <th>0</th>\n",
       "      <td>1</td>\n",
       "      <td>#VALE5</td>\n",
       "      <td>#VALE5</td>\n",
       "      <td>X</td>\n",
       "      <td>None</td>\n",
       "      <td>None</td>\n",
       "      <td>NaN</td>\n",
       "      <td>_</td>\n",
       "      <td>None</td>\n",
       "      <td>None</td>\n",
       "    </tr>\n",
       "    <tr>\n",
       "      <th>1</th>\n",
       "      <td>2</td>\n",
       "      <td>-</td>\n",
       "      <td>-</td>\n",
       "      <td>PUNCT</td>\n",
       "      <td>None</td>\n",
       "      <td>None</td>\n",
       "      <td>NaN</td>\n",
       "      <td>_</td>\n",
       "      <td>None</td>\n",
       "      <td>None</td>\n",
       "    </tr>\n",
       "    <tr>\n",
       "      <th>2</th>\n",
       "      <td>3</td>\n",
       "      <td>Análise</td>\n",
       "      <td>Análise</td>\n",
       "      <td>PROPN</td>\n",
       "      <td>None</td>\n",
       "      <td>None</td>\n",
       "      <td>NaN</td>\n",
       "      <td>_</td>\n",
       "      <td>None</td>\n",
       "      <td>None</td>\n",
       "    </tr>\n",
       "    <tr>\n",
       "      <th>3</th>\n",
       "      <td>4</td>\n",
       "      <td>#Ichimoku</td>\n",
       "      <td>#Ichimoku</td>\n",
       "      <td>PROPN</td>\n",
       "      <td>None</td>\n",
       "      <td>None</td>\n",
       "      <td>NaN</td>\n",
       "      <td>_</td>\n",
       "      <td>None</td>\n",
       "      <td>None</td>\n",
       "    </tr>\n",
       "    <tr>\n",
       "      <th>4</th>\n",
       "      <td>5</td>\n",
       "      <td>-</td>\n",
       "      <td>-</td>\n",
       "      <td>PUNCT</td>\n",
       "      <td>None</td>\n",
       "      <td>None</td>\n",
       "      <td>NaN</td>\n",
       "      <td>_</td>\n",
       "      <td>None</td>\n",
       "      <td>None</td>\n",
       "    </tr>\n",
       "  </tbody>\n",
       "</table>\n",
       "</div>"
      ],
      "text/plain": [
       "  id       form      lemma   upos  xpos feats  head deprel  deps  misc\n",
       "0  1     #VALE5     #VALE5      X  None  None   NaN      _  None  None\n",
       "1  2          -          -  PUNCT  None  None   NaN      _  None  None\n",
       "2  3    Análise    Análise  PROPN  None  None   NaN      _  None  None\n",
       "3  4  #Ichimoku  #Ichimoku  PROPN  None  None   NaN      _  None  None\n",
       "4  5          -          -  PUNCT  None  None   NaN      _  None  None"
      ]
     },
     "execution_count": 30,
     "metadata": {},
     "output_type": "execute_result"
    }
   ],
   "source": [
    "dante_df.head()"
   ]
  },
  {
   "cell_type": "code",
   "execution_count": 31,
   "metadata": {},
   "outputs": [],
   "source": [
    "# we want to add a column to the dataframe that indicates what tweet the token\n",
    "# comes from\n",
    "\n",
    "tweet_ids = []\n",
    "for i in range(len(sentences)):\n",
    "    for _ in range(len(sentences[i])):\n",
    "        tweet_ids.append(i)"
   ]
  },
  {
   "cell_type": "code",
   "execution_count": 32,
   "metadata": {},
   "outputs": [
    {
     "data": {
      "text/plain": [
       "84397"
      ]
     },
     "execution_count": 32,
     "metadata": {},
     "output_type": "execute_result"
    }
   ],
   "source": [
    "len(tweet_ids)"
   ]
  },
  {
   "cell_type": "code",
   "execution_count": 33,
   "metadata": {},
   "outputs": [],
   "source": [
    "dante_df['tweet_id'] = tweet_ids"
   ]
  },
  {
   "cell_type": "code",
   "execution_count": 34,
   "metadata": {},
   "outputs": [
    {
     "data": {
      "text/html": [
       "<div>\n",
       "<style scoped>\n",
       "    .dataframe tbody tr th:only-of-type {\n",
       "        vertical-align: middle;\n",
       "    }\n",
       "\n",
       "    .dataframe tbody tr th {\n",
       "        vertical-align: top;\n",
       "    }\n",
       "\n",
       "    .dataframe thead th {\n",
       "        text-align: right;\n",
       "    }\n",
       "</style>\n",
       "<table border=\"1\" class=\"dataframe\">\n",
       "  <thead>\n",
       "    <tr style=\"text-align: right;\">\n",
       "      <th></th>\n",
       "      <th>id</th>\n",
       "      <th>form</th>\n",
       "      <th>lemma</th>\n",
       "      <th>upos</th>\n",
       "      <th>xpos</th>\n",
       "      <th>feats</th>\n",
       "      <th>head</th>\n",
       "      <th>deprel</th>\n",
       "      <th>deps</th>\n",
       "      <th>misc</th>\n",
       "      <th>tweet_id</th>\n",
       "    </tr>\n",
       "  </thead>\n",
       "  <tbody>\n",
       "    <tr>\n",
       "      <th>0</th>\n",
       "      <td>1</td>\n",
       "      <td>#VALE5</td>\n",
       "      <td>#VALE5</td>\n",
       "      <td>X</td>\n",
       "      <td>None</td>\n",
       "      <td>None</td>\n",
       "      <td>NaN</td>\n",
       "      <td>_</td>\n",
       "      <td>None</td>\n",
       "      <td>None</td>\n",
       "      <td>0</td>\n",
       "    </tr>\n",
       "    <tr>\n",
       "      <th>1</th>\n",
       "      <td>2</td>\n",
       "      <td>-</td>\n",
       "      <td>-</td>\n",
       "      <td>PUNCT</td>\n",
       "      <td>None</td>\n",
       "      <td>None</td>\n",
       "      <td>NaN</td>\n",
       "      <td>_</td>\n",
       "      <td>None</td>\n",
       "      <td>None</td>\n",
       "      <td>0</td>\n",
       "    </tr>\n",
       "    <tr>\n",
       "      <th>2</th>\n",
       "      <td>3</td>\n",
       "      <td>Análise</td>\n",
       "      <td>Análise</td>\n",
       "      <td>PROPN</td>\n",
       "      <td>None</td>\n",
       "      <td>None</td>\n",
       "      <td>NaN</td>\n",
       "      <td>_</td>\n",
       "      <td>None</td>\n",
       "      <td>None</td>\n",
       "      <td>0</td>\n",
       "    </tr>\n",
       "    <tr>\n",
       "      <th>3</th>\n",
       "      <td>4</td>\n",
       "      <td>#Ichimoku</td>\n",
       "      <td>#Ichimoku</td>\n",
       "      <td>PROPN</td>\n",
       "      <td>None</td>\n",
       "      <td>None</td>\n",
       "      <td>NaN</td>\n",
       "      <td>_</td>\n",
       "      <td>None</td>\n",
       "      <td>None</td>\n",
       "      <td>0</td>\n",
       "    </tr>\n",
       "    <tr>\n",
       "      <th>4</th>\n",
       "      <td>5</td>\n",
       "      <td>-</td>\n",
       "      <td>-</td>\n",
       "      <td>PUNCT</td>\n",
       "      <td>None</td>\n",
       "      <td>None</td>\n",
       "      <td>NaN</td>\n",
       "      <td>_</td>\n",
       "      <td>None</td>\n",
       "      <td>None</td>\n",
       "      <td>0</td>\n",
       "    </tr>\n",
       "  </tbody>\n",
       "</table>\n",
       "</div>"
      ],
      "text/plain": [
       "  id       form      lemma   upos  xpos feats  head deprel  deps  misc  \\\n",
       "0  1     #VALE5     #VALE5      X  None  None   NaN      _  None  None   \n",
       "1  2          -          -  PUNCT  None  None   NaN      _  None  None   \n",
       "2  3    Análise    Análise  PROPN  None  None   NaN      _  None  None   \n",
       "3  4  #Ichimoku  #Ichimoku  PROPN  None  None   NaN      _  None  None   \n",
       "4  5          -          -  PUNCT  None  None   NaN      _  None  None   \n",
       "\n",
       "   tweet_id  \n",
       "0         0  \n",
       "1         0  \n",
       "2         0  \n",
       "3         0  \n",
       "4         0  "
      ]
     },
     "execution_count": 34,
     "metadata": {},
     "output_type": "execute_result"
    }
   ],
   "source": [
    "dante_df.head()"
   ]
  },
  {
   "attachments": {},
   "cell_type": "markdown",
   "metadata": {},
   "source": [
    "### EDA"
   ]
  },
  {
   "attachments": {},
   "cell_type": "markdown",
   "metadata": {},
   "source": [
    "1. ID: Word index, integer starting at 1 for each new sentence; may be a range for multiword tokens; may be a decimal number for empty nodes (decimal numbers can be lower than 1 but must be greater than 0).\n",
    "2. FORM: Word form or punctuation symbol.\n",
    "3. LEMMA: Lemma or stem of word form.\n",
    "4. UPOS: Universal part-of-speech tag.\n",
    "5. XPOS: Language-specific part-of-speech tag; underscore if not available.\n",
    "6. FEATS: List of morphological features from the universal feature inventory or from a defined language-specific extension; underscore if not available.\n",
    "7. HEAD: Head of the current word, which is either a value of ID or zero (0).\n",
    "8. DEPREL: Universal dependency relation to the HEAD (root iff HEAD = 0) or a defined language-specific subtype of one.\n",
    "9. DEPS: Enhanced dependency graph in the form of a list of head-deprel pairs.\n",
    "10. MISC: Any other annotation."
   ]
  },
  {
   "cell_type": "code",
   "execution_count": 35,
   "metadata": {},
   "outputs": [
    {
     "name": "stdout",
     "output_type": "stream",
     "text": [
      "<class 'pandas.core.frame.DataFrame'>\n",
      "RangeIndex: 84397 entries, 0 to 84396\n",
      "Data columns (total 11 columns):\n",
      " #   Column    Non-Null Count  Dtype  \n",
      "---  ------    --------------  -----  \n",
      " 0   id        84397 non-null  object \n",
      " 1   form      84397 non-null  object \n",
      " 2   lemma     84397 non-null  object \n",
      " 3   upos      84397 non-null  object \n",
      " 4   xpos      3 non-null      object \n",
      " 5   feats     36582 non-null  object \n",
      " 6   head      28 non-null     float64\n",
      " 7   deprel    84397 non-null  object \n",
      " 8   deps      16 non-null     object \n",
      " 9   misc      6835 non-null   object \n",
      " 10  tweet_id  84397 non-null  int64  \n",
      "dtypes: float64(1), int64(1), object(9)\n",
      "memory usage: 7.1+ MB\n"
     ]
    }
   ],
   "source": [
    "dante_df.info()"
   ]
  },
  {
   "cell_type": "code",
   "execution_count": 40,
   "metadata": {},
   "outputs": [
    {
     "data": {
      "text/plain": [
       "array([1, 2, 3, 4, 5, 6, 7, 8, 9, 10, 11, 12, 13, 14, (3, '-', 4), 15, 16,\n",
       "       (5, '-', 6), (16, '-', 17), 17, 18, 19, 20, 21, 22, 23, 24, 25, 26,\n",
       "       27, 28, (9, '-', 10), (8, '-', 9), 29, 30, (7, '-', 8), 31, 32, 33,\n",
       "       34, 35, (21, '-', 22), (15, '-', 16), (18, '-', 19), (2, '-', 3),\n",
       "       (12, '-', 13), (19, '-', 20), (22, '-', 23), (6, '-', 7),\n",
       "       (25, '-', 26), (4, '-', 5), (11, '-', 12), (24, '-', 25),\n",
       "       (14, '-', 15), (23, '-', 24), (28, '-', 29), (20, '-', 21),\n",
       "       (10, '-', 11), (13, '-', 14), 36, 37, 38, 39, 40, 41, 42,\n",
       "       (17, '-', 18), (1, '-', 2), (27, '-', 28), (30, '-', 31),\n",
       "       (26, '-', 27), (32, '-', 33), (29, '-', 30), 43, 44, 45, 46, 47,\n",
       "       48, 49, 50, 51, 52, 53, 54, 55, 56, 57, 58, 59, 60, 61, 62, 63, 64,\n",
       "       65, 66, 67, 68, 69, 70, 71, (31, '-', 32), (33, '-', 34),\n",
       "       (36, '-', 37), (13, '-', 16), (12, '-', 15), (9, '-', 11)],\n",
       "      dtype=object)"
      ]
     },
     "execution_count": 40,
     "metadata": {},
     "output_type": "execute_result"
    }
   ],
   "source": [
    "dante_df['id'].unique()"
   ]
  },
  {
   "cell_type": "code",
   "execution_count": 36,
   "metadata": {},
   "outputs": [
    {
     "data": {
      "text/plain": [
       "array(['X', 'PUNCT', 'PROPN', 'NOUN', 'ADP', 'NUM', 'SYM', 'DET', '_',\n",
       "       'VERB', 'ADJ', 'CCONJ', 'ADV', 'AUX', 'SCONJ', 'PRON', 'INTJ',\n",
       "       'PART'], dtype=object)"
      ]
     },
     "execution_count": 36,
     "metadata": {},
     "output_type": "execute_result"
    }
   ],
   "source": [
    "# Which are the universal part of speach tags\n",
    "dante_df['upos'].unique()"
   ]
  },
  {
   "cell_type": "code",
   "execution_count": 37,
   "metadata": {},
   "outputs": [],
   "source": [
    "dante_df.to_csv(r\"C:\\Users\\ianba\\OneDrive\\Desktop\\shenanigans\\usp\\ic\\poetisa\\data\\data_intermed\\dante_df.csv\")"
   ]
  },
  {
   "attachments": {},
   "cell_type": "markdown",
   "metadata": {},
   "source": [
    "#### Universal Part-of-Speech Tags\n",
    "\n",
    "Source: https://universaldependencies.org/u/pos/\n",
    "\n",
    "- ADJ: adjective. \"Adjectives are words that typically modify nouns and specify their properties or attributes\". In UD some words that could be considered adjectives are labled as numbers or determiners.\n",
    "\n",
    "- ADP: adposition. \"Adposition is a cover term for prepositions and postpositions. Adpositions belong to a closed set of items that occur before (preposition) or after (postposition) a complement composed of a noun phrase, noun, pronoun, or clause that functions as a noun phrase, and that form a single structure with the complement to express its grammatical and semantic relation to another unit within a clause\". \n",
    "\n",
    "- ADV: adverb. \"Adverbs are words that typically modify verbs for such categories as time, place, direction or manner. They may also modify adjectives and other adverbs\". \n",
    "\n",
    "- AUX: auxiliary. \"An auxiliary is a function word that accompanies the lexical verb of a verb phrase and expresses grammatical distinctions not carried by the lexical verb, such as person, number, tense, mood, aspect, voice or evidentiality\".\n",
    "\n",
    "- CCONJ: coordinating conjunction. \"A coordinating conjunction is a word that links words or larger constituents without syntactically subordinating one to the other and expresses a semantic relationship between them.\"\n",
    "\n",
    "- DET: determiner. \"Determiners are words that modify nouns or noun phrases and express the reference of the noun phrase in context. That is, a determiner may indicate whether the noun is referring to a definite or indefinite element of a class, to a closer or more distant element, to an element belonging to a specified person or thing, to a particular number or quantity, etc.\"\n",
    "\n",
    "- INTJ: interjection. \"An interjection is a word that is used most often as an exclamation or part of an exclamation. It typically expresses an emotional reaction, is not syntactically related to other accompanying expressions, and may include a combination of sounds not otherwise found in the language.\"\n",
    "\n",
    "- NOUN: noun. \"Nouns are a part of speech typically denoting a person, place, thing, animal or idea.\"\n",
    "\n",
    "- NUM: numeral. \n",
    "\n",
    "- PART: particle\n",
    "\n",
    "- PRON: pronoun. \"Pronouns are words that substitute for nouns or noun phrases, whose meaning is recoverable from the linguistic or extralinguistic context.\"\n",
    "\n",
    "- PROPN: proper noun. \"A proper noun is a noun (or nominal content word) that is the name (or part of the name) of a specific individual, place, or object.\"\n",
    "\n",
    "- PUNCT: punctuation\n",
    "\n",
    "- SCONJ: subordinating conjunction. \"A subordinating conjunction is a conjunction that links constructions by making one of them a constituent of the other. The subordinating conjunction typically marks the incorporated constituent which has the status of a (subordinate) clause.\"\n",
    "\n",
    "- SYM: symbol\n",
    "\n",
    "- VERB: verb. \"Note that the VERB tag covers main verbs (content verbs) but it does not cover auxiliary verbs and verbal copulas (in the narrow sense), for which there is the AUX tag.\"\n",
    "\n",
    "- X: other. \"The tag X is used for words that for some reason cannot be assigned a real part-of-speech category.\""
   ]
  },
  {
   "cell_type": "code",
   "execution_count": 36,
   "metadata": {},
   "outputs": [
    {
     "data": {
      "text/plain": [
       "PUNCT    13056\n",
       "NOUN     11936\n",
       "PROPN    11440\n",
       "ADP       8735\n",
       "DET       6855\n",
       "VERB      6585\n",
       "NUM       5033\n",
       "SYM       4509\n",
       "_         3347\n",
       "ADJ       2934\n",
       "ADV       2764\n",
       "X         2102\n",
       "CCONJ     1694\n",
       "AUX       1316\n",
       "PRON      1214\n",
       "SCONJ      732\n",
       "INTJ       142\n",
       "PART         3\n",
       "Name: upos, dtype: int64"
      ]
     },
     "execution_count": 36,
     "metadata": {},
     "output_type": "execute_result"
    }
   ],
   "source": [
    "# Lets check how many times each of the unique POS tags appear in \n",
    "# the dataset\n",
    "\n",
    "dante_df['upos'].value_counts()"
   ]
  },
  {
   "attachments": {},
   "cell_type": "markdown",
   "metadata": {},
   "source": [
    "As expected, there are more nouns and proper nouns than other sintactic functions in the corpus."
   ]
  },
  {
   "cell_type": "code",
   "execution_count": 37,
   "metadata": {},
   "outputs": [
    {
     "data": {
      "text/html": [
       "<div>\n",
       "<style scoped>\n",
       "    .dataframe tbody tr th:only-of-type {\n",
       "        vertical-align: middle;\n",
       "    }\n",
       "\n",
       "    .dataframe tbody tr th {\n",
       "        vertical-align: top;\n",
       "    }\n",
       "\n",
       "    .dataframe thead th {\n",
       "        text-align: right;\n",
       "    }\n",
       "</style>\n",
       "<table border=\"1\" class=\"dataframe\">\n",
       "  <thead>\n",
       "    <tr style=\"text-align: right;\">\n",
       "      <th></th>\n",
       "      <th>id</th>\n",
       "      <th>form</th>\n",
       "      <th>lemma</th>\n",
       "      <th>upos</th>\n",
       "      <th>xpos</th>\n",
       "      <th>feats</th>\n",
       "      <th>head</th>\n",
       "      <th>deprel</th>\n",
       "      <th>deps</th>\n",
       "      <th>misc</th>\n",
       "      <th>tweet_id</th>\n",
       "    </tr>\n",
       "  </thead>\n",
       "  <tbody>\n",
       "    <tr>\n",
       "      <th>67480</th>\n",
       "      <td>11</td>\n",
       "      <td>RT</td>\n",
       "      <td>RT</td>\n",
       "      <td>X</td>\n",
       "      <td>None</td>\n",
       "      <td>None</td>\n",
       "      <td>NaN</td>\n",
       "      <td>_</td>\n",
       "      <td>None</td>\n",
       "      <td>None</td>\n",
       "      <td>3235</td>\n",
       "    </tr>\n",
       "    <tr>\n",
       "      <th>19271</th>\n",
       "      <td>2</td>\n",
       "      <td>#PETR4</td>\n",
       "      <td>#PETR4</td>\n",
       "      <td>X</td>\n",
       "      <td>None</td>\n",
       "      <td>None</td>\n",
       "      <td>NaN</td>\n",
       "      <td>_</td>\n",
       "      <td>None</td>\n",
       "      <td>None</td>\n",
       "      <td>940</td>\n",
       "    </tr>\n",
       "    <tr>\n",
       "      <th>20104</th>\n",
       "      <td>27</td>\n",
       "      <td>Heeheh</td>\n",
       "      <td>Heeheh</td>\n",
       "      <td>X</td>\n",
       "      <td>None</td>\n",
       "      <td>None</td>\n",
       "      <td>NaN</td>\n",
       "      <td>_</td>\n",
       "      <td>None</td>\n",
       "      <td>{'SpacesAfter': '\\n'}</td>\n",
       "      <td>981</td>\n",
       "    </tr>\n",
       "    <tr>\n",
       "      <th>40074</th>\n",
       "      <td>3</td>\n",
       "      <td>#EuApoioCPIdaPetrobras</td>\n",
       "      <td>#EuApoioCPIdaPetrobras</td>\n",
       "      <td>X</td>\n",
       "      <td>None</td>\n",
       "      <td>None</td>\n",
       "      <td>NaN</td>\n",
       "      <td>_</td>\n",
       "      <td>None</td>\n",
       "      <td>None</td>\n",
       "      <td>1949</td>\n",
       "    </tr>\n",
       "    <tr>\n",
       "      <th>33210</th>\n",
       "      <td>1</td>\n",
       "      <td>#LLXL3</td>\n",
       "      <td>#LLXL3</td>\n",
       "      <td>X</td>\n",
       "      <td>None</td>\n",
       "      <td>None</td>\n",
       "      <td>NaN</td>\n",
       "      <td>_</td>\n",
       "      <td>None</td>\n",
       "      <td>None</td>\n",
       "      <td>1623</td>\n",
       "    </tr>\n",
       "    <tr>\n",
       "      <th>13211</th>\n",
       "      <td>18</td>\n",
       "      <td>rsrsrrs</td>\n",
       "      <td>rsrsrrs</td>\n",
       "      <td>X</td>\n",
       "      <td>None</td>\n",
       "      <td>None</td>\n",
       "      <td>NaN</td>\n",
       "      <td>_</td>\n",
       "      <td>None</td>\n",
       "      <td>{'SpacesAfter': '\\n'}</td>\n",
       "      <td>633</td>\n",
       "    </tr>\n",
       "    <tr>\n",
       "      <th>32719</th>\n",
       "      <td>1</td>\n",
       "      <td>$AEDU3</td>\n",
       "      <td>$AEDU3</td>\n",
       "      <td>X</td>\n",
       "      <td>None</td>\n",
       "      <td>None</td>\n",
       "      <td>NaN</td>\n",
       "      <td>_</td>\n",
       "      <td>None</td>\n",
       "      <td>None</td>\n",
       "      <td>1600</td>\n",
       "    </tr>\n",
       "    <tr>\n",
       "      <th>65221</th>\n",
       "      <td>1</td>\n",
       "      <td>$VALE5</td>\n",
       "      <td>$VALE5</td>\n",
       "      <td>X</td>\n",
       "      <td>None</td>\n",
       "      <td>None</td>\n",
       "      <td>NaN</td>\n",
       "      <td>_</td>\n",
       "      <td>None</td>\n",
       "      <td>None</td>\n",
       "      <td>3127</td>\n",
       "    </tr>\n",
       "    <tr>\n",
       "      <th>73027</th>\n",
       "      <td>25</td>\n",
       "      <td>#infomoney</td>\n",
       "      <td>#infomoney</td>\n",
       "      <td>X</td>\n",
       "      <td>None</td>\n",
       "      <td>None</td>\n",
       "      <td>NaN</td>\n",
       "      <td>_</td>\n",
       "      <td>None</td>\n",
       "      <td>None</td>\n",
       "      <td>3496</td>\n",
       "    </tr>\n",
       "    <tr>\n",
       "      <th>67004</th>\n",
       "      <td>1</td>\n",
       "      <td>RT</td>\n",
       "      <td>RT</td>\n",
       "      <td>X</td>\n",
       "      <td>None</td>\n",
       "      <td>None</td>\n",
       "      <td>NaN</td>\n",
       "      <td>_</td>\n",
       "      <td>None</td>\n",
       "      <td>None</td>\n",
       "      <td>3216</td>\n",
       "    </tr>\n",
       "  </tbody>\n",
       "</table>\n",
       "</div>"
      ],
      "text/plain": [
       "       id                    form                   lemma upos  xpos feats  \\\n",
       "67480  11                      RT                      RT    X  None  None   \n",
       "19271   2                  #PETR4                  #PETR4    X  None  None   \n",
       "20104  27                  Heeheh                  Heeheh    X  None  None   \n",
       "40074   3  #EuApoioCPIdaPetrobras  #EuApoioCPIdaPetrobras    X  None  None   \n",
       "33210   1                  #LLXL3                  #LLXL3    X  None  None   \n",
       "13211  18                 rsrsrrs                 rsrsrrs    X  None  None   \n",
       "32719   1                  $AEDU3                  $AEDU3    X  None  None   \n",
       "65221   1                  $VALE5                  $VALE5    X  None  None   \n",
       "73027  25              #infomoney              #infomoney    X  None  None   \n",
       "67004   1                      RT                      RT    X  None  None   \n",
       "\n",
       "       head deprel  deps                   misc  tweet_id  \n",
       "67480   NaN      _  None                   None      3235  \n",
       "19271   NaN      _  None                   None       940  \n",
       "20104   NaN      _  None  {'SpacesAfter': '\\n'}       981  \n",
       "40074   NaN      _  None                   None      1949  \n",
       "33210   NaN      _  None                   None      1623  \n",
       "13211   NaN      _  None  {'SpacesAfter': '\\n'}       633  \n",
       "32719   NaN      _  None                   None      1600  \n",
       "65221   NaN      _  None                   None      3127  \n",
       "73027   NaN      _  None                   None      3496  \n",
       "67004   NaN      _  None                   None      3216  "
      ]
     },
     "execution_count": 37,
     "metadata": {},
     "output_type": "execute_result"
    }
   ],
   "source": [
    "# Lets examine some of the X POS tags\n",
    "dante_df.query(\"upos == 'X'\").sample(10)"
   ]
  },
  {
   "attachments": {},
   "cell_type": "markdown",
   "metadata": {},
   "source": [
    "Mostly hashtags, cashtags and retweets."
   ]
  },
  {
   "cell_type": "code",
   "execution_count": 38,
   "metadata": {},
   "outputs": [
    {
     "data": {
      "text/html": [
       "<div>\n",
       "<style scoped>\n",
       "    .dataframe tbody tr th:only-of-type {\n",
       "        vertical-align: middle;\n",
       "    }\n",
       "\n",
       "    .dataframe tbody tr th {\n",
       "        vertical-align: top;\n",
       "    }\n",
       "\n",
       "    .dataframe thead th {\n",
       "        text-align: right;\n",
       "    }\n",
       "</style>\n",
       "<table border=\"1\" class=\"dataframe\">\n",
       "  <thead>\n",
       "    <tr style=\"text-align: right;\">\n",
       "      <th></th>\n",
       "      <th>id</th>\n",
       "      <th>form</th>\n",
       "      <th>lemma</th>\n",
       "      <th>upos</th>\n",
       "      <th>xpos</th>\n",
       "      <th>feats</th>\n",
       "      <th>head</th>\n",
       "      <th>deprel</th>\n",
       "      <th>deps</th>\n",
       "      <th>misc</th>\n",
       "      <th>tweet_id</th>\n",
       "    </tr>\n",
       "  </thead>\n",
       "  <tbody>\n",
       "    <tr>\n",
       "      <th>30</th>\n",
       "      <td>(3, -, 4)</td>\n",
       "      <td>do</td>\n",
       "      <td>_</td>\n",
       "      <td>_</td>\n",
       "      <td>None</td>\n",
       "      <td>None</td>\n",
       "      <td>NaN</td>\n",
       "      <td>_</td>\n",
       "      <td>None</td>\n",
       "      <td>None</td>\n",
       "      <td>2</td>\n",
       "    </tr>\n",
       "    <tr>\n",
       "      <th>49</th>\n",
       "      <td>(5, -, 6)</td>\n",
       "      <td>na</td>\n",
       "      <td>_</td>\n",
       "      <td>_</td>\n",
       "      <td>None</td>\n",
       "      <td>None</td>\n",
       "      <td>NaN</td>\n",
       "      <td>_</td>\n",
       "      <td>None</td>\n",
       "      <td>None</td>\n",
       "      <td>3</td>\n",
       "    </tr>\n",
       "    <tr>\n",
       "      <th>61</th>\n",
       "      <td>(16, -, 17)</td>\n",
       "      <td>no</td>\n",
       "      <td>_</td>\n",
       "      <td>_</td>\n",
       "      <td>None</td>\n",
       "      <td>None</td>\n",
       "      <td>NaN</td>\n",
       "      <td>_</td>\n",
       "      <td>None</td>\n",
       "      <td>None</td>\n",
       "      <td>3</td>\n",
       "    </tr>\n",
       "    <tr>\n",
       "      <th>83</th>\n",
       "      <td>(9, -, 10)</td>\n",
       "      <td>da</td>\n",
       "      <td>_</td>\n",
       "      <td>_</td>\n",
       "      <td>None</td>\n",
       "      <td>None</td>\n",
       "      <td>NaN</td>\n",
       "      <td>_</td>\n",
       "      <td>None</td>\n",
       "      <td>None</td>\n",
       "      <td>4</td>\n",
       "    </tr>\n",
       "    <tr>\n",
       "      <th>98</th>\n",
       "      <td>(8, -, 9)</td>\n",
       "      <td>na</td>\n",
       "      <td>_</td>\n",
       "      <td>_</td>\n",
       "      <td>None</td>\n",
       "      <td>None</td>\n",
       "      <td>NaN</td>\n",
       "      <td>_</td>\n",
       "      <td>None</td>\n",
       "      <td>None</td>\n",
       "      <td>5</td>\n",
       "    </tr>\n",
       "    <tr>\n",
       "      <th>...</th>\n",
       "      <td>...</td>\n",
       "      <td>...</td>\n",
       "      <td>...</td>\n",
       "      <td>...</td>\n",
       "      <td>...</td>\n",
       "      <td>...</td>\n",
       "      <td>...</td>\n",
       "      <td>...</td>\n",
       "      <td>...</td>\n",
       "      <td>...</td>\n",
       "      <td>...</td>\n",
       "    </tr>\n",
       "    <tr>\n",
       "      <th>84265</th>\n",
       "      <td>(21, -, 22)</td>\n",
       "      <td>no</td>\n",
       "      <td>_</td>\n",
       "      <td>_</td>\n",
       "      <td>None</td>\n",
       "      <td>None</td>\n",
       "      <td>NaN</td>\n",
       "      <td>_</td>\n",
       "      <td>None</td>\n",
       "      <td>None</td>\n",
       "      <td>4040</td>\n",
       "    </tr>\n",
       "    <tr>\n",
       "      <th>84275</th>\n",
       "      <td>(6, -, 7)</td>\n",
       "      <td>à</td>\n",
       "      <td>_</td>\n",
       "      <td>_</td>\n",
       "      <td>None</td>\n",
       "      <td>None</td>\n",
       "      <td>NaN</td>\n",
       "      <td>_</td>\n",
       "      <td>None</td>\n",
       "      <td>None</td>\n",
       "      <td>4041</td>\n",
       "    </tr>\n",
       "    <tr>\n",
       "      <th>84311</th>\n",
       "      <td>(8, -, 9)</td>\n",
       "      <td>do</td>\n",
       "      <td>_</td>\n",
       "      <td>_</td>\n",
       "      <td>None</td>\n",
       "      <td>None</td>\n",
       "      <td>NaN</td>\n",
       "      <td>_</td>\n",
       "      <td>None</td>\n",
       "      <td>None</td>\n",
       "      <td>4043</td>\n",
       "    </tr>\n",
       "    <tr>\n",
       "      <th>84322</th>\n",
       "      <td>(6, -, 7)</td>\n",
       "      <td>dos</td>\n",
       "      <td>_</td>\n",
       "      <td>_</td>\n",
       "      <td>None</td>\n",
       "      <td>None</td>\n",
       "      <td>NaN</td>\n",
       "      <td>_</td>\n",
       "      <td>None</td>\n",
       "      <td>None</td>\n",
       "      <td>4044</td>\n",
       "    </tr>\n",
       "    <tr>\n",
       "      <th>84374</th>\n",
       "      <td>(19, -, 20)</td>\n",
       "      <td>do</td>\n",
       "      <td>_</td>\n",
       "      <td>_</td>\n",
       "      <td>None</td>\n",
       "      <td>None</td>\n",
       "      <td>NaN</td>\n",
       "      <td>_</td>\n",
       "      <td>None</td>\n",
       "      <td>None</td>\n",
       "      <td>4046</td>\n",
       "    </tr>\n",
       "  </tbody>\n",
       "</table>\n",
       "<p>3347 rows × 11 columns</p>\n",
       "</div>"
      ],
      "text/plain": [
       "                id form lemma upos  xpos feats  head deprel  deps  misc  \\\n",
       "30       (3, -, 4)   do     _    _  None  None   NaN      _  None  None   \n",
       "49       (5, -, 6)   na     _    _  None  None   NaN      _  None  None   \n",
       "61     (16, -, 17)   no     _    _  None  None   NaN      _  None  None   \n",
       "83      (9, -, 10)   da     _    _  None  None   NaN      _  None  None   \n",
       "98       (8, -, 9)   na     _    _  None  None   NaN      _  None  None   \n",
       "...            ...  ...   ...  ...   ...   ...   ...    ...   ...   ...   \n",
       "84265  (21, -, 22)   no     _    _  None  None   NaN      _  None  None   \n",
       "84275    (6, -, 7)    à     _    _  None  None   NaN      _  None  None   \n",
       "84311    (8, -, 9)   do     _    _  None  None   NaN      _  None  None   \n",
       "84322    (6, -, 7)  dos     _    _  None  None   NaN      _  None  None   \n",
       "84374  (19, -, 20)   do     _    _  None  None   NaN      _  None  None   \n",
       "\n",
       "       tweet_id  \n",
       "30            2  \n",
       "49            3  \n",
       "61            3  \n",
       "83            4  \n",
       "98            5  \n",
       "...         ...  \n",
       "84265      4040  \n",
       "84275      4041  \n",
       "84311      4043  \n",
       "84322      4044  \n",
       "84374      4046  \n",
       "\n",
       "[3347 rows x 11 columns]"
      ]
     },
     "execution_count": 38,
     "metadata": {},
     "output_type": "execute_result"
    }
   ],
   "source": [
    "# Lets check what the _ POS tag is \n",
    "dante_df.loc[dante_df.loc[:, 'upos'] == '_', :]"
   ]
  },
  {
   "attachments": {},
   "cell_type": "markdown",
   "metadata": {},
   "source": [
    "Don't quite understand what these are."
   ]
  },
  {
   "cell_type": "code",
   "execution_count": 39,
   "metadata": {},
   "outputs": [
    {
     "data": {
      "text/plain": [
       "array(['_', 'goeswith'], dtype=object)"
      ]
     },
     "execution_count": 39,
     "metadata": {},
     "output_type": "execute_result"
    }
   ],
   "source": [
    "# Lets check what deprels we have\n",
    "dante_df['deprel'].unique()"
   ]
  },
  {
   "cell_type": "code",
   "execution_count": 40,
   "metadata": {},
   "outputs": [
    {
     "data": {
      "text/plain": [
       "_           84369\n",
       "goeswith       28\n",
       "Name: deprel, dtype: int64"
      ]
     },
     "execution_count": 40,
     "metadata": {},
     "output_type": "execute_result"
    }
   ],
   "source": [
    "dante_df['deprel'].value_counts()"
   ]
  },
  {
   "attachments": {},
   "cell_type": "markdown",
   "metadata": {},
   "source": [
    "Mostly missing values. \n",
    "\n",
    "Consulting Bryans masters project we can see that this is expected:\n",
    "\n",
    "\"Para os tweets, tem-se, por enquanto, apenas diretrizes para a etiquetação morfossintática(DI-FELIPPO et al., 2022).\"\n",
    "\n",
    "Let's check what the 'goeswith' deprel is."
   ]
  },
  {
   "cell_type": "code",
   "execution_count": 41,
   "metadata": {},
   "outputs": [
    {
     "data": {
      "text/html": [
       "<div>\n",
       "<style scoped>\n",
       "    .dataframe tbody tr th:only-of-type {\n",
       "        vertical-align: middle;\n",
       "    }\n",
       "\n",
       "    .dataframe tbody tr th {\n",
       "        vertical-align: top;\n",
       "    }\n",
       "\n",
       "    .dataframe thead th {\n",
       "        text-align: right;\n",
       "    }\n",
       "</style>\n",
       "<table border=\"1\" class=\"dataframe\">\n",
       "  <thead>\n",
       "    <tr style=\"text-align: right;\">\n",
       "      <th></th>\n",
       "      <th>id</th>\n",
       "      <th>form</th>\n",
       "      <th>lemma</th>\n",
       "      <th>upos</th>\n",
       "      <th>xpos</th>\n",
       "      <th>feats</th>\n",
       "      <th>head</th>\n",
       "      <th>deprel</th>\n",
       "      <th>deps</th>\n",
       "      <th>misc</th>\n",
       "      <th>tweet_id</th>\n",
       "    </tr>\n",
       "  </thead>\n",
       "  <tbody>\n",
       "    <tr>\n",
       "      <th>57595</th>\n",
       "      <td>3</td>\n",
       "      <td>diretor</td>\n",
       "      <td>_</td>\n",
       "      <td>X</td>\n",
       "      <td>None</td>\n",
       "      <td>None</td>\n",
       "      <td>2.0</td>\n",
       "      <td>goeswith</td>\n",
       "      <td>None</td>\n",
       "      <td>None</td>\n",
       "      <td>2768</td>\n",
       "    </tr>\n",
       "    <tr>\n",
       "      <th>67433</th>\n",
       "      <td>17</td>\n",
       "      <td>lenga</td>\n",
       "      <td>_</td>\n",
       "      <td>X</td>\n",
       "      <td>None</td>\n",
       "      <td>None</td>\n",
       "      <td>16.0</td>\n",
       "      <td>goeswith</td>\n",
       "      <td>None</td>\n",
       "      <td>None</td>\n",
       "      <td>3232</td>\n",
       "    </tr>\n",
       "    <tr>\n",
       "      <th>37799</th>\n",
       "      <td>18</td>\n",
       "      <td>side</td>\n",
       "      <td>_</td>\n",
       "      <td>X</td>\n",
       "      <td>None</td>\n",
       "      <td>None</td>\n",
       "      <td>17.0</td>\n",
       "      <td>goeswith</td>\n",
       "      <td>None</td>\n",
       "      <td>{'SpacesAfter': '\\n'}</td>\n",
       "      <td>1849</td>\n",
       "    </tr>\n",
       "    <tr>\n",
       "      <th>2494</th>\n",
       "      <td>14</td>\n",
       "      <td>sal</td>\n",
       "      <td>_</td>\n",
       "      <td>X</td>\n",
       "      <td>None</td>\n",
       "      <td>None</td>\n",
       "      <td>13.0</td>\n",
       "      <td>goeswith</td>\n",
       "      <td>None</td>\n",
       "      <td>None</td>\n",
       "      <td>134</td>\n",
       "    </tr>\n",
       "    <tr>\n",
       "      <th>37819</th>\n",
       "      <td>18</td>\n",
       "      <td>side</td>\n",
       "      <td>_</td>\n",
       "      <td>X</td>\n",
       "      <td>None</td>\n",
       "      <td>None</td>\n",
       "      <td>17.0</td>\n",
       "      <td>goeswith</td>\n",
       "      <td>None</td>\n",
       "      <td>{'SpacesAfter': 'No', 'CorrectSpaceAfter': 'Yes'}</td>\n",
       "      <td>1850</td>\n",
       "    </tr>\n",
       "  </tbody>\n",
       "</table>\n",
       "</div>"
      ],
      "text/plain": [
       "       id     form lemma upos  xpos feats  head    deprel  deps  \\\n",
       "57595   3  diretor     _    X  None  None   2.0  goeswith  None   \n",
       "67433  17    lenga     _    X  None  None  16.0  goeswith  None   \n",
       "37799  18     side     _    X  None  None  17.0  goeswith  None   \n",
       "2494   14      sal     _    X  None  None  13.0  goeswith  None   \n",
       "37819  18     side     _    X  None  None  17.0  goeswith  None   \n",
       "\n",
       "                                                    misc  tweet_id  \n",
       "57595                                               None      2768  \n",
       "67433                                               None      3232  \n",
       "37799                              {'SpacesAfter': '\\n'}      1849  \n",
       "2494                                                None       134  \n",
       "37819  {'SpacesAfter': 'No', 'CorrectSpaceAfter': 'Yes'}      1850  "
      ]
     },
     "execution_count": 41,
     "metadata": {},
     "output_type": "execute_result"
    }
   ],
   "source": [
    "dante_df.query(\"deprel == 'goeswith'\").sample(5)"
   ]
  },
  {
   "attachments": {},
   "cell_type": "markdown",
   "metadata": {},
   "source": [
    "They're for compound words."
   ]
  },
  {
   "attachments": {},
   "cell_type": "markdown",
   "metadata": {},
   "source": [
    "Let's check the feats."
   ]
  },
  {
   "cell_type": "code",
   "execution_count": 42,
   "metadata": {},
   "outputs": [
    {
     "data": {
      "text/plain": [
       "13588    {'Mood': 'Imp', 'Number': 'Plur', 'Person': '3...\n",
       "34265    {'Definite': 'Def', 'Gender': 'Masc', 'Number'...\n",
       "17867    {'Mood': 'Ind', 'Number': 'Sing', 'Person': '3...\n",
       "36422                                  {'NumType': 'Card'}\n",
       "58890    {'Mood': 'Sub', 'Number': 'Sing', 'Person': '3...\n",
       "Name: feats, dtype: object"
      ]
     },
     "execution_count": 42,
     "metadata": {},
     "output_type": "execute_result"
    }
   ],
   "source": [
    "dante_df.loc[(dante_df.loc[:, 'feats'].notnull()), 'feats'].sample(5)"
   ]
  },
  {
   "attachments": {},
   "cell_type": "markdown",
   "metadata": {},
   "source": [
    "Information on gender, number, if it is definite or indefinite etc."
   ]
  },
  {
   "attachments": {},
   "cell_type": "markdown",
   "metadata": {},
   "source": [
    "#### Miscs\n",
    "We want to check if the misc column is relevant. If it isn't, then we can drop it."
   ]
  },
  {
   "cell_type": "code",
   "execution_count": 43,
   "metadata": {},
   "outputs": [],
   "source": [
    "misc_vals = dante_df.loc[~pd.isna(dante_df.loc[:, 'misc']), 'misc']"
   ]
  },
  {
   "cell_type": "code",
   "execution_count": 44,
   "metadata": {},
   "outputs": [
    {
     "data": {
      "text/plain": [
       "pandas.core.series.Series"
      ]
     },
     "execution_count": 44,
     "metadata": {},
     "output_type": "execute_result"
    }
   ],
   "source": [
    "type(misc_vals)"
   ]
  },
  {
   "cell_type": "code",
   "execution_count": 45,
   "metadata": {},
   "outputs": [
    {
     "data": {
      "text/plain": [
       "13"
      ]
     },
     "execution_count": 45,
     "metadata": {},
     "output_type": "execute_result"
    }
   ],
   "source": [
    "misc_vals.index[0]"
   ]
  },
  {
   "cell_type": "code",
   "execution_count": 46,
   "metadata": {},
   "outputs": [
    {
     "data": {
      "text/plain": [
       "(6835,)"
      ]
     },
     "execution_count": 46,
     "metadata": {},
     "output_type": "execute_result"
    }
   ],
   "source": [
    "misc_vals.shape"
   ]
  },
  {
   "cell_type": "code",
   "execution_count": 47,
   "metadata": {},
   "outputs": [],
   "source": [
    "l = {}\n",
    "for i in range(misc_vals.shape[0]):\n",
    "    key, value = list(misc_vals.values[i].items())[0]\n",
    "    if not l.get(key):\n",
    "        l[key] = [[value, misc_vals.index[i]]]\n",
    "    else:\n",
    "        l[key].append([value, misc_vals.index[i]])"
   ]
  },
  {
   "cell_type": "code",
   "execution_count": 48,
   "metadata": {},
   "outputs": [
    {
     "data": {
      "text/plain": [
       "array(['4:reparandum', 'CorrectForm', 'CorrectSpaceAfter', 'FulForm',\n",
       "       'FullFom', 'FullFor', 'FullForm', 'FullForma', 'FullForn',\n",
       "       'FullFrom', 'Fullform', 'SpaceAfter', 'SpacesAfter', 'Trunc'],\n",
       "      dtype='<U17')"
      ]
     },
     "execution_count": 48,
     "metadata": {},
     "output_type": "execute_result"
    }
   ],
   "source": [
    "np.unique(list(l.keys()))"
   ]
  },
  {
   "attachments": {},
   "cell_type": "markdown",
   "metadata": {},
   "source": [
    "Apparently there are many keys that are just misspelled versions of the same category, such as SpacesAfter and SpaceAfter."
   ]
  },
  {
   "cell_type": "code",
   "execution_count": 49,
   "metadata": {},
   "outputs": [
    {
     "data": {
      "text/plain": [
       "[['sexta-feira', 52],\n",
       " ['mínima', 101],\n",
       " ['sexta-feira', 103],\n",
       " ['para', 192],\n",
       " ['suporte', 215]]"
      ]
     },
     "execution_count": 49,
     "metadata": {},
     "output_type": "execute_result"
    }
   ],
   "source": [
    "l['FullForm'][:5]"
   ]
  },
  {
   "cell_type": "code",
   "execution_count": 50,
   "metadata": {},
   "outputs": [
    {
     "data": {
      "text/plain": [
       "id                            32\n",
       "form                         pra\n",
       "lemma                       para\n",
       "upos                         ADP\n",
       "xpos                        None\n",
       "feats            {'Abbr': 'Yes'}\n",
       "head                         NaN\n",
       "deprel                         _\n",
       "deps                        None\n",
       "misc        {'FullForm': 'para'}\n",
       "tweet_id                       8\n",
       "Name: 192, dtype: object"
      ]
     },
     "execution_count": 50,
     "metadata": {},
     "output_type": "execute_result"
    }
   ],
   "source": [
    "dante_df.iloc[192, :]"
   ]
  },
  {
   "attachments": {},
   "cell_type": "markdown",
   "metadata": {},
   "source": [
    "The FullForm Misc category doesn't seem to be very important since the lemmas usually capture the full form of the token."
   ]
  },
  {
   "cell_type": "code",
   "execution_count": 51,
   "metadata": {},
   "outputs": [
    {
     "data": {
      "text/plain": [
       "[['\\\\n', 13], ['\\\\n', 27], ['\\\\n', 44], ['\\\\n', 74], ['\\\\n', 90]]"
      ]
     },
     "execution_count": 51,
     "metadata": {},
     "output_type": "execute_result"
    }
   ],
   "source": [
    "l['SpacesAfter'][:5]"
   ]
  },
  {
   "cell_type": "code",
   "execution_count": 52,
   "metadata": {},
   "outputs": [
    {
     "data": {
      "text/plain": [
       "id                              16\n",
       "form        http://t.co/fZ3wAPf7An\n",
       "lemma       http://t.co/fZ3wAPf7An\n",
       "upos                           SYM\n",
       "xpos                          None\n",
       "feats                         None\n",
       "head                           NaN\n",
       "deprel                           _\n",
       "deps                          None\n",
       "misc         {'SpacesAfter': '\\n'}\n",
       "tweet_id                         2\n",
       "Name: 44, dtype: object"
      ]
     },
     "execution_count": 52,
     "metadata": {},
     "output_type": "execute_result"
    }
   ],
   "source": [
    "dante_df.iloc[44]"
   ]
  },
  {
   "attachments": {},
   "cell_type": "markdown",
   "metadata": {},
   "source": [
    "The SpacesAfter category also doesnt seem very usefull since all values seem to be the same and it only indicates that there was a space after the token. The tokens in this case are usually hyperlinks."
   ]
  },
  {
   "cell_type": "code",
   "execution_count": 53,
   "metadata": {},
   "outputs": [
    {
     "data": {
      "text/plain": [
       "[['Yes', 65], ['Yes', 824], ['Yes', 1527], ['Yes', 1759], ['Yes', 1841]]"
      ]
     },
     "execution_count": 53,
     "metadata": {},
     "output_type": "execute_result"
    }
   ],
   "source": [
    "l['CorrectSpaceAfter'][:5]"
   ]
  },
  {
   "cell_type": "code",
   "execution_count": 54,
   "metadata": {},
   "outputs": [
    {
     "data": {
      "text/plain": [
       "id                                                         1\n",
       "form                                                05/03/14\n",
       "lemma                                               05/03/14\n",
       "upos                                                     NUM\n",
       "xpos                                                    None\n",
       "feats                                    {'NumType': 'Card'}\n",
       "head                                                     NaN\n",
       "deprel                                                     _\n",
       "deps                                                    None\n",
       "misc        {'CorrectSpaceAfter': 'Yes', 'SpaceAfter': 'No'}\n",
       "tweet_id                                                 100\n",
       "Name: 1759, dtype: object"
      ]
     },
     "execution_count": 54,
     "metadata": {},
     "output_type": "execute_result"
    }
   ],
   "source": [
    "dante_df.iloc[1759]"
   ]
  },
  {
   "attachments": {},
   "cell_type": "markdown",
   "metadata": {},
   "source": [
    "Also does not seem very relevant."
   ]
  },
  {
   "cell_type": "code",
   "execution_count": 55,
   "metadata": {},
   "outputs": [
    {
     "data": {
      "text/plain": [
       "[['Subonda', 55], ['subonda', 95], ['fez', 197], ['Papéis', 236], ['Não', 320]]"
      ]
     },
     "execution_count": 55,
     "metadata": {},
     "output_type": "execute_result"
    }
   ],
   "source": [
    "l['CorrectForm'][:5]"
   ]
  },
  {
   "cell_type": "code",
   "execution_count": 56,
   "metadata": {},
   "outputs": [
    {
     "data": {
      "text/plain": [
       "id                                                         10\n",
       "form                                                      Sub\n",
       "lemma                                                 subonda\n",
       "upos                                                     NOUN\n",
       "xpos                                                     None\n",
       "feats       {'Gender': 'Fem', 'Number': 'Sing', 'Typo': 'Y...\n",
       "head                                                      NaN\n",
       "deprel                                                      _\n",
       "deps                                                     None\n",
       "misc                               {'CorrectForm': 'Subonda'}\n",
       "tweet_id                                                    3\n",
       "Name: 55, dtype: object"
      ]
     },
     "execution_count": 56,
     "metadata": {},
     "output_type": "execute_result"
    }
   ],
   "source": [
    "dante_df.iloc[55]"
   ]
  },
  {
   "cell_type": "code",
   "execution_count": 57,
   "metadata": {},
   "outputs": [
    {
     "data": {
      "text/plain": [
       "'Em a #PETR4 fizemos em a sexta passada uma Sub Onda 5 de fundo e em o dia 05/02/14uma Onda 3 de fundo alvos 15,44 16,40 http://t.co/5DPBQCulWr'"
      ]
     },
     "execution_count": 57,
     "metadata": {},
     "output_type": "execute_result"
    }
   ],
   "source": [
    "tweets[3]"
   ]
  },
  {
   "attachments": {},
   "cell_type": "markdown",
   "metadata": {},
   "source": [
    "The CorrectForm category seems more relevant than the others, but the lemma seems to be enough to understand the token, even when the form in the tweet is very poorly written."
   ]
  },
  {
   "cell_type": "code",
   "execution_count": 58,
   "metadata": {},
   "outputs": [
    {
     "data": {
      "text/plain": [
       "[['Yes', 2660], ['Yes', 4007], ['Yes', 10366], ['Yes', 13827], ['Yes', 17334]]"
      ]
     },
     "execution_count": 58,
     "metadata": {},
     "output_type": "execute_result"
    }
   ],
   "source": [
    "l['Trunc'][:5]"
   ]
  },
  {
   "cell_type": "code",
   "execution_count": 59,
   "metadata": {},
   "outputs": [
    {
     "data": {
      "text/plain": [
       "id                        29\n",
       "form                     que\n",
       "lemma                    que\n",
       "upos                       X\n",
       "xpos                    None\n",
       "feats                   None\n",
       "head                     NaN\n",
       "deprel                     _\n",
       "deps                    None\n",
       "misc        {'Trunc': 'Yes'}\n",
       "tweet_id                 500\n",
       "Name: 10366, dtype: object"
      ]
     },
     "execution_count": 59,
     "metadata": {},
     "output_type": "execute_result"
    }
   ],
   "source": [
    "dante_df.iloc[10366]"
   ]
  },
  {
   "cell_type": "code",
   "execution_count": 60,
   "metadata": {},
   "outputs": [
    {
     "data": {
      "text/plain": [
       "'CTIP3 encerrou com uma pequena perda (-0,76%). Abriu Estácio (ESTC3) e subiu forte, e BR Malls (BRML3), que... http://t.co/K7mbQ4GTJ8'"
      ]
     },
     "execution_count": 60,
     "metadata": {},
     "output_type": "execute_result"
    }
   ],
   "source": [
    "tweets[500]"
   ]
  },
  {
   "attachments": {},
   "cell_type": "markdown",
   "metadata": {},
   "source": [
    "This category indicates truncation, in the sense that the tweets was likely truncated due to the size limitation distinctive of this format."
   ]
  },
  {
   "attachments": {},
   "cell_type": "markdown",
   "metadata": {},
   "source": [
    "It is unlikely that the Misc column will be useful so we will drop it."
   ]
  },
  {
   "cell_type": "code",
   "execution_count": 158,
   "metadata": {},
   "outputs": [],
   "source": [
    "dante_df.drop('misc', axis=1, inplace=True)"
   ]
  },
  {
   "attachments": {},
   "cell_type": "markdown",
   "metadata": {},
   "source": [
    "Number of unique tokens in the corpus."
   ]
  },
  {
   "cell_type": "code",
   "execution_count": 62,
   "metadata": {},
   "outputs": [
    {
     "data": {
      "text/plain": [
       "9330"
      ]
     },
     "execution_count": 62,
     "metadata": {},
     "output_type": "execute_result"
    }
   ],
   "source": [
    "dante_df.loc[:, 'lemma'].nunique()"
   ]
  },
  {
   "cell_type": "code",
   "execution_count": 68,
   "metadata": {},
   "outputs": [
    {
     "data": {
      "text/plain": [
       "7503"
      ]
     },
     "execution_count": 68,
     "metadata": {},
     "output_type": "execute_result"
    }
   ],
   "source": [
    "# Number of tokens not counting punctuation, symbols and X\n",
    "subset = dante_df.query('upos != \"PUNCT\" and upos != \"X\" and upos != \"SYM\"')\n",
    "subset.loc[:, 'lemma'].nunique()"
   ]
  },
  {
   "attachments": {},
   "cell_type": "markdown",
   "metadata": {},
   "source": [
    "Getting average number of tokens per tweet."
   ]
  },
  {
   "cell_type": "code",
   "execution_count": 64,
   "metadata": {},
   "outputs": [
    {
     "data": {
      "text/plain": [
       "4048"
      ]
     },
     "execution_count": 64,
     "metadata": {},
     "output_type": "execute_result"
    }
   ],
   "source": [
    "len(tweets)"
   ]
  },
  {
   "cell_type": "code",
   "execution_count": 70,
   "metadata": {},
   "outputs": [
    {
     "data": {
      "text/plain": [
       "15.990612648221344"
      ]
     },
     "execution_count": 70,
     "metadata": {},
     "output_type": "execute_result"
    }
   ],
   "source": [
    "subset.shape[0] / len(tweets)"
   ]
  },
  {
   "cell_type": "code",
   "execution_count": 71,
   "metadata": {},
   "outputs": [
    {
     "data": {
      "text/plain": [
       "20.849061264822133"
      ]
     },
     "execution_count": 71,
     "metadata": {},
     "output_type": "execute_result"
    }
   ],
   "source": [
    "dante_df.shape[0] / len(tweets)"
   ]
  },
  {
   "attachments": {},
   "cell_type": "markdown",
   "metadata": {},
   "source": [
    "## Getting Possible Predicative Nouns"
   ]
  },
  {
   "attachments": {},
   "cell_type": "markdown",
   "metadata": {},
   "source": [
    "The predicative nouns are usually accompanied by a preposition. As a first attempt to try to find all predicative nouns we will try to find all tweets that have nouns followed and prepositions. We will then form touples with the noun, preposition pairs, as well as the word that preceded the noun and the word that comes after the preprosition. Proper nouns cannot be predicative names, so we will ignore those. We also want to create a column in the data frame with the possible predicative nouns and a list containing the tweets and the words in the tweets that can be predicative nouns. "
   ]
  },
  {
   "cell_type": "code",
   "execution_count": 162,
   "metadata": {},
   "outputs": [],
   "source": [
    "def find_noun_pred(df):\n",
    "\n",
    "    # lists we will create\n",
    "    noun_pred_windows = []\n",
    "    noun_pred_locs = []\n",
    "    noun_pred_col = []\n",
    "\n",
    "    for i in range(df.shape[0]-1):\n",
    "\n",
    "        # restricting ourselves to the same tweet\n",
    "        if (df['tweet_id'][i]) != (df['tweet_id'][i+1]):\n",
    "            noun_pred_col.append(0)\n",
    "            continue\n",
    "\n",
    "        # finding situations where a noun is followed by a preposition\n",
    "        if (df['upos'][i] == 'NOUN') and (df['upos'][i+1] == 'ADP'):\n",
    "\n",
    "            # creating the window of words we want\n",
    "            window = [i+j for j in range(-1, 3, 1) if (i+j >= 0) and (i+j <= df.shape[0])]\n",
    "            w = [df['lemma'][i] for i in window]\n",
    "            noun_pred_windows.append(w)\n",
    "            noun_pred_locs.append([df['tweet_id'][i], df['id'][i]])\n",
    "            noun_pred_col.append(1)\n",
    "        else:\n",
    "            noun_pred_col.append(0)\n",
    "\n",
    "    noun_pred_col.append(0)\n",
    "\n",
    "    return noun_pred_windows, noun_pred_locs, noun_pred_col"
   ]
  },
  {
   "cell_type": "code",
   "execution_count": 163,
   "metadata": {},
   "outputs": [],
   "source": [
    "windows, locs, col = find_noun_pred(dante_df)"
   ]
  },
  {
   "cell_type": "code",
   "execution_count": 164,
   "metadata": {},
   "outputs": [
    {
     "data": {
      "text/plain": [
       "84397"
      ]
     },
     "execution_count": 164,
     "metadata": {},
     "output_type": "execute_result"
    }
   ],
   "source": [
    "len(col)"
   ]
  },
  {
   "cell_type": "code",
   "execution_count": 165,
   "metadata": {},
   "outputs": [
    {
     "data": {
      "text/html": [
       "<div>\n",
       "<style scoped>\n",
       "    .dataframe tbody tr th:only-of-type {\n",
       "        vertical-align: middle;\n",
       "    }\n",
       "\n",
       "    .dataframe tbody tr th {\n",
       "        vertical-align: top;\n",
       "    }\n",
       "\n",
       "    .dataframe thead th {\n",
       "        text-align: right;\n",
       "    }\n",
       "</style>\n",
       "<table border=\"1\" class=\"dataframe\">\n",
       "  <thead>\n",
       "    <tr style=\"text-align: right;\">\n",
       "      <th></th>\n",
       "      <th>id</th>\n",
       "      <th>form</th>\n",
       "      <th>lemma</th>\n",
       "      <th>upos</th>\n",
       "      <th>xpos</th>\n",
       "      <th>feats</th>\n",
       "      <th>head</th>\n",
       "      <th>deprel</th>\n",
       "      <th>deps</th>\n",
       "      <th>tweet_id</th>\n",
       "      <th>poss_npred</th>\n",
       "    </tr>\n",
       "  </thead>\n",
       "  <tbody>\n",
       "    <tr>\n",
       "      <th>0</th>\n",
       "      <td>1</td>\n",
       "      <td>#VALE5</td>\n",
       "      <td>#VALE5</td>\n",
       "      <td>X</td>\n",
       "      <td>None</td>\n",
       "      <td>None</td>\n",
       "      <td>NaN</td>\n",
       "      <td>_</td>\n",
       "      <td>None</td>\n",
       "      <td>0</td>\n",
       "      <td>0</td>\n",
       "    </tr>\n",
       "    <tr>\n",
       "      <th>1</th>\n",
       "      <td>2</td>\n",
       "      <td>-</td>\n",
       "      <td>-</td>\n",
       "      <td>PUNCT</td>\n",
       "      <td>None</td>\n",
       "      <td>None</td>\n",
       "      <td>NaN</td>\n",
       "      <td>_</td>\n",
       "      <td>None</td>\n",
       "      <td>0</td>\n",
       "      <td>0</td>\n",
       "    </tr>\n",
       "    <tr>\n",
       "      <th>2</th>\n",
       "      <td>3</td>\n",
       "      <td>Análise</td>\n",
       "      <td>Análise</td>\n",
       "      <td>PROPN</td>\n",
       "      <td>None</td>\n",
       "      <td>None</td>\n",
       "      <td>NaN</td>\n",
       "      <td>_</td>\n",
       "      <td>None</td>\n",
       "      <td>0</td>\n",
       "      <td>0</td>\n",
       "    </tr>\n",
       "    <tr>\n",
       "      <th>3</th>\n",
       "      <td>4</td>\n",
       "      <td>#Ichimoku</td>\n",
       "      <td>#Ichimoku</td>\n",
       "      <td>PROPN</td>\n",
       "      <td>None</td>\n",
       "      <td>None</td>\n",
       "      <td>NaN</td>\n",
       "      <td>_</td>\n",
       "      <td>None</td>\n",
       "      <td>0</td>\n",
       "      <td>0</td>\n",
       "    </tr>\n",
       "    <tr>\n",
       "      <th>4</th>\n",
       "      <td>5</td>\n",
       "      <td>-</td>\n",
       "      <td>-</td>\n",
       "      <td>PUNCT</td>\n",
       "      <td>None</td>\n",
       "      <td>None</td>\n",
       "      <td>NaN</td>\n",
       "      <td>_</td>\n",
       "      <td>None</td>\n",
       "      <td>0</td>\n",
       "      <td>0</td>\n",
       "    </tr>\n",
       "  </tbody>\n",
       "</table>\n",
       "</div>"
      ],
      "text/plain": [
       "  id       form      lemma   upos  xpos feats  head deprel  deps  tweet_id  \\\n",
       "0  1     #VALE5     #VALE5      X  None  None   NaN      _  None         0   \n",
       "1  2          -          -  PUNCT  None  None   NaN      _  None         0   \n",
       "2  3    Análise    Análise  PROPN  None  None   NaN      _  None         0   \n",
       "3  4  #Ichimoku  #Ichimoku  PROPN  None  None   NaN      _  None         0   \n",
       "4  5          -          -  PUNCT  None  None   NaN      _  None         0   \n",
       "\n",
       "   poss_npred  \n",
       "0           0  \n",
       "1           0  \n",
       "2           0  \n",
       "3           0  \n",
       "4           0  "
      ]
     },
     "execution_count": 165,
     "metadata": {},
     "output_type": "execute_result"
    }
   ],
   "source": [
    "dante_df['poss_npred'] = col\n",
    "dante_df.head()"
   ]
  },
  {
   "cell_type": "code",
   "execution_count": 167,
   "metadata": {},
   "outputs": [
    {
     "data": {
      "text/plain": [
       "[['-', 'pregão', 'de', 'sexta-feira'],\n",
       " ['-', 'pregão', 'de', 'sexta-feira'],\n",
       " ['-', 'pregão', 'de', 'sexta-feira'],\n",
       " ['o', 'mínima', 'de', 'sexta-feira'],\n",
       " ['o', 'momento', 'de', 'entrar']]"
      ]
     },
     "execution_count": 167,
     "metadata": {},
     "output_type": "execute_result"
    }
   ],
   "source": [
    "windows[:5]"
   ]
  },
  {
   "cell_type": "code",
   "execution_count": 203,
   "metadata": {},
   "outputs": [],
   "source": [
    "tweets_with_npred = []\n",
    "for i in range(len(locs)):\n",
    "    tweet = dante_df.query('tweet_id == {idx}'.format(idx = i))\n",
    "    tweet.loc[tweet.loc[:, 'id'] == locs[i][1], 'form'] = tweet.loc[tweet.loc[:, 'id'] == locs[i][1], 'form'] + '(NPRED)' \n",
    "    tweet_str = \" \".join(tweet['form'])\n",
    "    tweets_with_npred.append(tweet_str)"
   ]
  },
  {
   "cell_type": "code",
   "execution_count": 206,
   "metadata": {},
   "outputs": [
    {
     "data": {
      "text/plain": [
       "2444"
      ]
     },
     "execution_count": 206,
     "metadata": {},
     "output_type": "execute_result"
    }
   ],
   "source": [
    "len(tweets_with_npred)"
   ]
  },
  {
   "cell_type": "code",
   "execution_count": 207,
   "metadata": {},
   "outputs": [
    {
     "data": {
      "text/html": [
       "<div>\n",
       "<style scoped>\n",
       "    .dataframe tbody tr th:only-of-type {\n",
       "        vertical-align: middle;\n",
       "    }\n",
       "\n",
       "    .dataframe tbody tr th {\n",
       "        vertical-align: top;\n",
       "    }\n",
       "\n",
       "    .dataframe thead th {\n",
       "        text-align: right;\n",
       "    }\n",
       "</style>\n",
       "<table border=\"1\" class=\"dataframe\">\n",
       "  <thead>\n",
       "    <tr style=\"text-align: right;\">\n",
       "      <th></th>\n",
       "      <th>id</th>\n",
       "      <th>form</th>\n",
       "      <th>lemma</th>\n",
       "      <th>upos</th>\n",
       "      <th>xpos</th>\n",
       "      <th>feats</th>\n",
       "      <th>head</th>\n",
       "      <th>deprel</th>\n",
       "      <th>deps</th>\n",
       "      <th>tweet_id</th>\n",
       "      <th>poss_npred</th>\n",
       "    </tr>\n",
       "  </thead>\n",
       "  <tbody>\n",
       "    <tr>\n",
       "      <th>5</th>\n",
       "      <td>6</td>\n",
       "      <td>pregão</td>\n",
       "      <td>pregão</td>\n",
       "      <td>NOUN</td>\n",
       "      <td>None</td>\n",
       "      <td>{'Gender': 'Masc', 'Number': 'Sing'}</td>\n",
       "      <td>NaN</td>\n",
       "      <td>_</td>\n",
       "      <td>None</td>\n",
       "      <td>0</td>\n",
       "      <td>1</td>\n",
       "    </tr>\n",
       "    <tr>\n",
       "      <th>19</th>\n",
       "      <td>6</td>\n",
       "      <td>pregão</td>\n",
       "      <td>pregão</td>\n",
       "      <td>NOUN</td>\n",
       "      <td>None</td>\n",
       "      <td>{'Gender': 'Masc', 'Number': 'Sing'}</td>\n",
       "      <td>NaN</td>\n",
       "      <td>_</td>\n",
       "      <td>None</td>\n",
       "      <td>1</td>\n",
       "      <td>1</td>\n",
       "    </tr>\n",
       "    <tr>\n",
       "      <th>37</th>\n",
       "      <td>9</td>\n",
       "      <td>pregão</td>\n",
       "      <td>pregão</td>\n",
       "      <td>NOUN</td>\n",
       "      <td>None</td>\n",
       "      <td>{'Gender': 'Masc', 'Number': 'Sing'}</td>\n",
       "      <td>NaN</td>\n",
       "      <td>_</td>\n",
       "      <td>None</td>\n",
       "      <td>2</td>\n",
       "      <td>1</td>\n",
       "    </tr>\n",
       "    <tr>\n",
       "      <th>101</th>\n",
       "      <td>10</td>\n",
       "      <td>min</td>\n",
       "      <td>mínima</td>\n",
       "      <td>NOUN</td>\n",
       "      <td>None</td>\n",
       "      <td>{'Gender': 'Fem', 'Number': 'Sing', 'Abbr': 'Y...</td>\n",
       "      <td>NaN</td>\n",
       "      <td>_</td>\n",
       "      <td>None</td>\n",
       "      <td>5</td>\n",
       "      <td>1</td>\n",
       "    </tr>\n",
       "    <tr>\n",
       "      <th>127</th>\n",
       "      <td>8</td>\n",
       "      <td>momento</td>\n",
       "      <td>momento</td>\n",
       "      <td>NOUN</td>\n",
       "      <td>None</td>\n",
       "      <td>{'Gender': 'Masc', 'Number': 'Sing'}</td>\n",
       "      <td>NaN</td>\n",
       "      <td>_</td>\n",
       "      <td>None</td>\n",
       "      <td>6</td>\n",
       "      <td>1</td>\n",
       "    </tr>\n",
       "    <tr>\n",
       "      <th>...</th>\n",
       "      <td>...</td>\n",
       "      <td>...</td>\n",
       "      <td>...</td>\n",
       "      <td>...</td>\n",
       "      <td>...</td>\n",
       "      <td>...</td>\n",
       "      <td>...</td>\n",
       "      <td>...</td>\n",
       "      <td>...</td>\n",
       "      <td>...</td>\n",
       "      <td>...</td>\n",
       "    </tr>\n",
       "    <tr>\n",
       "      <th>84300</th>\n",
       "      <td>11</td>\n",
       "      <td>Formulario</td>\n",
       "      <td>formulário</td>\n",
       "      <td>NOUN</td>\n",
       "      <td>None</td>\n",
       "      <td>{'Gender': 'Masc', 'Number': 'Sing', 'Typo': '...</td>\n",
       "      <td>NaN</td>\n",
       "      <td>_</td>\n",
       "      <td>None</td>\n",
       "      <td>4042</td>\n",
       "      <td>1</td>\n",
       "    </tr>\n",
       "    <tr>\n",
       "      <th>84341</th>\n",
       "      <td>8</td>\n",
       "      <td>Prod.</td>\n",
       "      <td>produção</td>\n",
       "      <td>NOUN</td>\n",
       "      <td>None</td>\n",
       "      <td>{'Gender': 'Fem', 'Number': 'Sing', 'Abbr': 'Y...</td>\n",
       "      <td>NaN</td>\n",
       "      <td>_</td>\n",
       "      <td>None</td>\n",
       "      <td>4045</td>\n",
       "      <td>1</td>\n",
       "    </tr>\n",
       "    <tr>\n",
       "      <th>84343</th>\n",
       "      <td>10</td>\n",
       "      <td>Petroleo</td>\n",
       "      <td>petróleo</td>\n",
       "      <td>NOUN</td>\n",
       "      <td>None</td>\n",
       "      <td>{'Gender': 'Masc', 'Number': 'Sing', 'Typo': '...</td>\n",
       "      <td>NaN</td>\n",
       "      <td>_</td>\n",
       "      <td>None</td>\n",
       "      <td>4045</td>\n",
       "      <td>1</td>\n",
       "    </tr>\n",
       "    <tr>\n",
       "      <th>84352</th>\n",
       "      <td>19</td>\n",
       "      <td>Recorde</td>\n",
       "      <td>recorde</td>\n",
       "      <td>NOUN</td>\n",
       "      <td>None</td>\n",
       "      <td>{'Number': 'Sing'}</td>\n",
       "      <td>NaN</td>\n",
       "      <td>_</td>\n",
       "      <td>None</td>\n",
       "      <td>4045</td>\n",
       "      <td>1</td>\n",
       "    </tr>\n",
       "    <tr>\n",
       "      <th>84393</th>\n",
       "      <td>12</td>\n",
       "      <td>Ingles</td>\n",
       "      <td>inglês</td>\n",
       "      <td>NOUN</td>\n",
       "      <td>None</td>\n",
       "      <td>{'Gender': 'Masc', 'Number': 'Sing', 'Typo': '...</td>\n",
       "      <td>NaN</td>\n",
       "      <td>_</td>\n",
       "      <td>None</td>\n",
       "      <td>4047</td>\n",
       "      <td>1</td>\n",
       "    </tr>\n",
       "  </tbody>\n",
       "</table>\n",
       "<p>2444 rows × 11 columns</p>\n",
       "</div>"
      ],
      "text/plain": [
       "       id        form       lemma  upos  xpos  \\\n",
       "5       6      pregão      pregão  NOUN  None   \n",
       "19      6      pregão      pregão  NOUN  None   \n",
       "37      9      pregão      pregão  NOUN  None   \n",
       "101    10         min      mínima  NOUN  None   \n",
       "127     8     momento     momento  NOUN  None   \n",
       "...    ..         ...         ...   ...   ...   \n",
       "84300  11  Formulario  formulário  NOUN  None   \n",
       "84341   8       Prod.    produção  NOUN  None   \n",
       "84343  10    Petroleo    petróleo  NOUN  None   \n",
       "84352  19     Recorde     recorde  NOUN  None   \n",
       "84393  12      Ingles      inglês  NOUN  None   \n",
       "\n",
       "                                                   feats  head deprel  deps  \\\n",
       "5                   {'Gender': 'Masc', 'Number': 'Sing'}   NaN      _  None   \n",
       "19                  {'Gender': 'Masc', 'Number': 'Sing'}   NaN      _  None   \n",
       "37                  {'Gender': 'Masc', 'Number': 'Sing'}   NaN      _  None   \n",
       "101    {'Gender': 'Fem', 'Number': 'Sing', 'Abbr': 'Y...   NaN      _  None   \n",
       "127                 {'Gender': 'Masc', 'Number': 'Sing'}   NaN      _  None   \n",
       "...                                                  ...   ...    ...   ...   \n",
       "84300  {'Gender': 'Masc', 'Number': 'Sing', 'Typo': '...   NaN      _  None   \n",
       "84341  {'Gender': 'Fem', 'Number': 'Sing', 'Abbr': 'Y...   NaN      _  None   \n",
       "84343  {'Gender': 'Masc', 'Number': 'Sing', 'Typo': '...   NaN      _  None   \n",
       "84352                                 {'Number': 'Sing'}   NaN      _  None   \n",
       "84393  {'Gender': 'Masc', 'Number': 'Sing', 'Typo': '...   NaN      _  None   \n",
       "\n",
       "       tweet_id  poss_npred  \n",
       "5             0           1  \n",
       "19            1           1  \n",
       "37            2           1  \n",
       "101           5           1  \n",
       "127           6           1  \n",
       "...         ...         ...  \n",
       "84300      4042           1  \n",
       "84341      4045           1  \n",
       "84343      4045           1  \n",
       "84352      4045           1  \n",
       "84393      4047           1  \n",
       "\n",
       "[2444 rows x 11 columns]"
      ]
     },
     "execution_count": 207,
     "metadata": {},
     "output_type": "execute_result"
    }
   ],
   "source": [
    "dante_df.query('poss_npred == 1')"
   ]
  },
  {
   "cell_type": "code",
   "execution_count": 208,
   "metadata": {},
   "outputs": [],
   "source": [
    "poss_npred_df = pd.DataFrame({'tweets':tweets_with_npred,\n",
    "                              'windows': windows,\n",
    "                              'locations': [loc[1] for loc in locs]})"
   ]
  },
  {
   "cell_type": "code",
   "execution_count": 209,
   "metadata": {},
   "outputs": [
    {
     "data": {
      "text/html": [
       "<div>\n",
       "<style scoped>\n",
       "    .dataframe tbody tr th:only-of-type {\n",
       "        vertical-align: middle;\n",
       "    }\n",
       "\n",
       "    .dataframe tbody tr th {\n",
       "        vertical-align: top;\n",
       "    }\n",
       "\n",
       "    .dataframe thead th {\n",
       "        text-align: right;\n",
       "    }\n",
       "</style>\n",
       "<table border=\"1\" class=\"dataframe\">\n",
       "  <thead>\n",
       "    <tr style=\"text-align: right;\">\n",
       "      <th></th>\n",
       "      <th>tweets</th>\n",
       "      <th>windows</th>\n",
       "      <th>locations</th>\n",
       "    </tr>\n",
       "  </thead>\n",
       "  <tbody>\n",
       "    <tr>\n",
       "      <th>0</th>\n",
       "      <td>#VALE5 - Análise #Ichimoku - pregão(NPRED) de ...</td>\n",
       "      <td>[-, pregão, de, sexta-feira]</td>\n",
       "      <td>6</td>\n",
       "    </tr>\n",
       "    <tr>\n",
       "      <th>1</th>\n",
       "      <td>#PETR4 - Análise #Ichimoku - pregão(NPRED) de ...</td>\n",
       "      <td>[-, pregão, de, sexta-feira]</td>\n",
       "      <td>6</td>\n",
       "    </tr>\n",
       "    <tr>\n",
       "      <th>2</th>\n",
       "      <td>as nuvens do de o ichimoku : PETR4 - pregão(NP...</td>\n",
       "      <td>[-, pregão, de, sexta-feira]</td>\n",
       "      <td>9</td>\n",
       "    </tr>\n",
       "    <tr>\n",
       "      <th>3</th>\n",
       "      <td>Em a #PETR4 fizemos na em a sexta passada uma ...</td>\n",
       "      <td>[o, mínima, de, sexta-feira]</td>\n",
       "      <td>10</td>\n",
       "    </tr>\n",
       "    <tr>\n",
       "      <th>4</th>\n",
       "      <td>@PaiRico @frfontanella @eddu56 @TiagoBDS Acabe...</td>\n",
       "      <td>[o, momento, de, entrar]</td>\n",
       "      <td>8</td>\n",
       "    </tr>\n",
       "  </tbody>\n",
       "</table>\n",
       "</div>"
      ],
      "text/plain": [
       "                                              tweets  \\\n",
       "0  #VALE5 - Análise #Ichimoku - pregão(NPRED) de ...   \n",
       "1  #PETR4 - Análise #Ichimoku - pregão(NPRED) de ...   \n",
       "2  as nuvens do de o ichimoku : PETR4 - pregão(NP...   \n",
       "3  Em a #PETR4 fizemos na em a sexta passada uma ...   \n",
       "4  @PaiRico @frfontanella @eddu56 @TiagoBDS Acabe...   \n",
       "\n",
       "                        windows  locations  \n",
       "0  [-, pregão, de, sexta-feira]          6  \n",
       "1  [-, pregão, de, sexta-feira]          6  \n",
       "2  [-, pregão, de, sexta-feira]          9  \n",
       "3  [o, mínima, de, sexta-feira]         10  \n",
       "4      [o, momento, de, entrar]          8  "
      ]
     },
     "execution_count": 209,
     "metadata": {},
     "output_type": "execute_result"
    }
   ],
   "source": [
    "poss_npred_df.head()"
   ]
  },
  {
   "cell_type": "code",
   "execution_count": 212,
   "metadata": {},
   "outputs": [],
   "source": [
    "poss_npred_df.to_csv(r\"C:\\Users\\ianba\\OneDrive\\Desktop\\shenanigans\\usp\\ic\\poetisa\\data\\data_intermed\\poss_npred.csv\")"
   ]
  },
  {
   "cell_type": "code",
   "execution_count": null,
   "metadata": {},
   "outputs": [],
   "source": []
  }
 ],
 "metadata": {
  "kernelspec": {
   "display_name": "base",
   "language": "python",
   "name": "python3"
  },
  "language_info": {
   "codemirror_mode": {
    "name": "ipython",
    "version": 3
   },
   "file_extension": ".py",
   "mimetype": "text/x-python",
   "name": "python",
   "nbconvert_exporter": "python",
   "pygments_lexer": "ipython3",
   "version": "3.9.13"
  },
  "orig_nbformat": 4
 },
 "nbformat": 4,
 "nbformat_minor": 2
}
